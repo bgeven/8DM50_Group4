{
 "cells": [
  {
   "cell_type": "markdown",
   "metadata": {},
   "source": [
    "# Getting started with the practicals\n",
    "\n",
    "***These notebooks are best viewed in Jupyter. GitHub might not display all content of the notebook properly.***\n",
    "\n",
    "## Goal of the practical exercises\n",
    "\n",
    "The exercises have two goals:\n",
    "\n",
    "1. Give you the opportunity to obtain 'hands-on' experience in implementing, training and evaluation machine learning models in Python. This experience will also help you better understand the theory covered during the lectures. \n",
    "\n",
    "2. Occasionally demonstrate some 'exam-style' questions that you can use as a reference when studying for the exam. Note however that the example questions are (as the name suggests) only examples and do not constitute a complete and sufficient list of 'things that you have to learn for the exam'. You can recognize example questions as (parts of) exercises by <font color=\"#770a0a\">this font color</font>.\n",
    "\n",
    "For each set of exercises (one Python notebook such as this one $==$ one set of exercises) you have to submit deliverables that will then be graded and constitute 25% of the final grade. Thus, the work that you do during the practicals has double contribution towards the final grade: as 25% direct contribution and as a preparation for the exam that will define the other 65% of the grade.\n",
    "\n",
    "## Deliverables\n",
    "\n",
    "For each set of exercises, you have to submit:\n",
    "1. Python functions and/or classes (`.py` files) that implement basic functionalities (e.g. a $k$-NN classifier) and \n",
    "2. A *single* Python notebook that contains the experiments, visualization and answer to the questions and math problems. *Do not submit your answers as Word or PDF documents (they will not be graded)*. The submitted code and notebook should run without errors and be able to fully reproduce the reported results.\n",
    "\n",
    "We recommend that you clone the provided notebooks (such as this one) and write your code in them. The following rubric will be used when grading the practical work:\n",
    "\n",
    "Component  | Insufficient | Satisfactory | Excellent\n",
    "--- | --- | --- | ---\n",
    "**Code** | Missing or incomplete code structure, runs with errors, lacks documentation | Self-contained, does not result in errors, contains some documentation, can be easily used to reproduce the reported results | User-friendly, well-structured (good separation of general functionality and experiments, i.e. between `.py` files and the Pyhthon notebook), detailed documentation, optimized for speed, <s>use of a version control system (such as GitHub)</s>\n",
    "**Answers to questions** | Incorrect, does not convey understanding of the material, appears to be copied from another source | Correct, conveys good understanding of the material, description in own words | Correct, conveys excellent level of understanding, makes connections between topics\n",
    "\n",
    "## A word on notation\n",
    "\n",
    "When we refer to Python variables, we will use a monospace font. For example, `X` is a Python variable that contains the data matrix. When we refer to mathematical variables, we will use the de-facto standard notation: $a$ or $\\lambda$ is a scalar variable, $\\boldsymbol{\\mathrm{w}}$ is a vector and $\\boldsymbol{\\mathrm{X}}$ is a matrix (e.g. a data matrix from the example above). You should use the same notation when writing your answers and solutions.\n",
    "\n",
    "# Two simple machine learning models\n",
    "\n",
    "## Preliminaries\n",
    "\n",
    "Throughout the practical curriculum of this course, we will use the Python programming language and its ecosystem of libraries for scientific computing (such as `numpy`, `scipy`, `matplotlib`, `scikit-learn` etc). The practicals for the deep learning part of the course will use the `keras` deep learning framework. If you are not sufficiently familiar with this programming language and/or the listed libraries and packages, you are strongly advised to go over the corresponding tutorials from the ['Essential skills'](https://github.com/tueimage/essential-skills) module (the `scikit-learn` library is not covered by the tutorial, however, an extensive documentation is available [here](https://scikit-learn.org/stable/documentation.html).\n",
    "\n",
    "In this first set of exercises, we will use two toy datasets that ship together with `scikit-learn`. \n",
    "\n",
    "The first dataset is named `diabetes` and contains 442 patients described with 10 features: age, sex, body mass index, average blood pressure, and six blood serum measurements. The target variable is a continuous quantitative measure of the disease (diabetes) progression one year after the baseline measurements were recorded. More information is available [here](https://github.com/scikit-learn/scikit-learn/blob/master/sklearn/datasets/descr/diabetes.rst) and [here](https://www4.stat.ncsu.edu/~boos/var.select/diabetes.html).\n",
    "\n",
    "The second dataset is named `breast_cancer` and is a copy of the UCI ML Breast Cancer Wisconsin (Diagnostic) datasets (more infortmation is available [here](https://github.com/scikit-learn/scikit-learn/blob/master/sklearn/datasets/descr/breast_cancer.rst) and [here](https://archive.ics.uci.edu/ml/datasets/Breast+Cancer+Wisconsin+(Diagnostic)). The datasets contains of 569 instances represented with 30 features that are computed from a images of a fine needle aspirate of a breast mass. The features describe characteristics of the cell nuclei present in the image. Each instance is associated with a binary target variable ('malignant' or 'benign'). \n",
    "\n",
    "You can load the two datasets in the following way:"
   ]
  },
  {
   "cell_type": "code",
   "execution_count": 1,
   "metadata": {},
   "outputs": [],
   "source": [
    "import numpy as np\n",
    "from sklearn.datasets import load_diabetes, load_breast_cancer\n",
    "\n",
    "diabetes = load_diabetes()\n",
    "\n",
    "breast_cancer = load_breast_cancer()"
   ]
  },
  {
   "cell_type": "markdown",
   "metadata": {},
   "source": [
    "In the majority of the exercises in this course, we will use higher-level libraries and packages such as `scikit-learn` and `keras` to implement, train and evaluate machine learning models. However, the goal of this first set of exercises is to illustrate basic mathematical tools and machine learning concepts. Because of this, we will impose a restriction of only using basic `numpy` functionality. Furthermore, you should as much as possible restrict the use of for-loops (e.g. use a vector-to-matrix product instead of a for loop when appropriate).\n",
    "\n",
    "If `X` is a 2D data matrix, we will use the convention that the rows of the matrix contain the samples (or instances) and the columns contain the features (inputs to the model). That means that a data matrix with a shape `(122, 13)` represents a dataset with 122 samples, each represented with 13 features. Similarly, if `Y` is a 2D matrix containing the targets, the rows correspond to the samples and the columns to the different targets (outputs of the model). Thus, if the shape of `Y` is `(122, 3)` that means that there are 122 samples and each sample is has 3 targets (note that in the majority of the examples we will only have a single target and thus the number of columns of `Y` will be 1).\n",
    "\n",
    "You can obtain the data and target matrices from the two datasets in the following way:"
   ]
  },
  {
   "cell_type": "code",
   "execution_count": 2,
   "metadata": {},
   "outputs": [
    {
     "name": "stdout",
     "output_type": "stream",
     "text": [
      "(442, 10)\n",
      "(442, 1)\n"
     ]
    }
   ],
   "source": [
    "X = diabetes.data\n",
    "Y = diabetes.target[:, np.newaxis]\n",
    "\n",
    "print(X.shape)\n",
    "print(Y.shape)"
   ]
  },
  {
   "cell_type": "markdown",
   "metadata": {},
   "source": [
    "If you want to only use a subset of the available features, you can obtain a reduced data matrix in the following way:"
   ]
  },
  {
   "cell_type": "code",
   "execution_count": 3,
   "metadata": {
    "scrolled": true
   },
   "outputs": [
    {
     "name": "stdout",
     "output_type": "stream",
     "text": [
      "(442, 1)\n",
      "(442, 2)\n"
     ]
    }
   ],
   "source": [
    "# use only the fourth feature\n",
    "X = diabetes.data[:, np.newaxis, 3]\n",
    "print(X.shape)\n",
    "\n",
    "# use the third, and tenth features\n",
    "X = diabetes.data[:, (3,9)]\n",
    "print(X.shape)"
   ]
  },
  {
   "cell_type": "markdown",
   "metadata": {},
   "source": [
    "***Question***: Why we need to use the `np.newaxis` expression in the examples above? <br>\n",
    "***Answer***:\n",
    "'np.newaxis' introduces an extra dimension in the data. Instead of a list with multiple lists in it, the data can now be considered a matrix (and the y data a vector). This makes it possible to perform future matrix operations on the data, such as multiplication. \n",
    "\n",
    "Note that in all your experiments in the exercises, you should use and independent training and testing sets. You can split the dataset into a training and testing subsets in the following way:"
   ]
  },
  {
   "cell_type": "code",
   "execution_count": 4,
   "metadata": {},
   "outputs": [
    {
     "name": "stdout",
     "output_type": "stream",
     "text": [
      "(300, 1)\n",
      "(300, 1)\n",
      "(142, 1)\n",
      "(142, 1)\n"
     ]
    }
   ],
   "source": [
    "# use the fourth feature\n",
    "# use the first 300 training samples for training, and the rest for testing\n",
    "X_train = diabetes.data[:300, np.newaxis, 3]\n",
    "y_train = diabetes.target[:300, np.newaxis]\n",
    "X_test = diabetes.data[300:, np.newaxis, 3]\n",
    "y_test = diabetes.target[300:, np.newaxis]\n",
    "print(X_train.shape)\n",
    "print(y_train.shape)\n",
    "print(X_test.shape)\n",
    "print(y_test.shape)"
   ]
  },
  {
   "cell_type": "markdown",
   "metadata": {},
   "source": [
    "## Exercises\n",
    "\n",
    "### Linear regression\n",
    "\n",
    "Implement training and evaluation of a linear regression model on the diabetes dataset using only matrix multiplication, inversion and transpose operations. Report the mean squared error of the model.\n",
    "\n",
    "To get you started we have implemented the first part of this exercise (fitting of the model) as an example."
   ]
  },
  {
   "cell_type": "code",
   "execution_count": 5,
   "metadata": {},
   "outputs": [
    {
     "name": "stdout",
     "output_type": "stream",
     "text": [
      "Root Mean Squared Error is 2794.5690145007284\n"
     ]
    }
   ],
   "source": [
    "# Add subfolder that contains all the function implementations\n",
    "# to the system path so we can import them\n",
    "import sys\n",
    "sys.path.append('code/')\n",
    "\n",
    "# The actual implementation is in linear_regression.py,\n",
    "# here we will just use it to fit a model\n",
    "from linear_regression import *\n",
    "\n",
    "# load the dataset\n",
    "# same as before, but now we use all features\n",
    "X_train = diabetes.data[:300, :]\n",
    "y_train = diabetes.target[:300, np.newaxis]\n",
    "X_test = diabetes.data[300:, :]\n",
    "y_test = diabetes.target[300:, np.newaxis]\n",
    "\n",
    "# Calculate parameters\n",
    "beta = lsq(X_train, y_train)\n",
    "\n",
    "# Add column of ones for the intercept\n",
    "ones = np.ones((len(X_test), 1))\n",
    "X_test_ones = np.concatenate((ones, X_test), axis=1)\n",
    "\n",
    "# Calculate the values of y predicted by the model\n",
    "y_pred = X_test_ones.dot(beta)\n",
    "\n",
    "# Calculate the root mean squared error and print the value\n",
    "RMSE = np.square(np.subtract(y_test,y_pred)).mean()\n",
    "print('Root Mean Squared Error is',RMSE)"
   ]
  },
  {
   "cell_type": "markdown",
   "metadata": {},
   "source": [
    "### Weighted linear regression\n",
    "\n",
    "Assume that in the dataset that you use to train a linear regression model, there are identical versions of some samples. This problem can be reformulated to a weighted linear regression problem where the matrices $\\boldsymbol{\\mathrm{X}}$ and $\\boldsymbol{\\mathrm{Y}}$ (or the vector $\\boldsymbol{\\mathrm{y}}$ if there is only a single target/output variable) contain only the unique data samples, and a vector $\\boldsymbol{\\mathrm{d}}$ is introduced that gives more weight to samples that appear multiple times in the original dataset (for example, the sample that appears 3 times has a corresponding weight of 3). \n",
    "\n",
    "<p><font color='#770a0a'>Derive the expression for the least-squares solution of a weighted linear regression model (note that in addition to the matrices $\\boldsymbol{\\mathrm{X}}$ and $\\boldsymbol{\\mathrm{Y}}$, the solution should include a vector of weights $\\boldsymbol{\\mathrm{d}}$).</font></p>"
   ]
  },
  {
   "cell_type": "code",
   "execution_count": 6,
   "metadata": {},
   "outputs": [
    {
     "name": "stdout",
     "output_type": "stream",
     "text": [
      "Root Mean Squared Error is 2789.229721593315\n"
     ]
    }
   ],
   "source": [
    "# source: https://towardsdatascience.com/weighted-linear-regression-2ef23b12a6d7\n",
    "\n",
    "# load the dataset\n",
    "# same as before, but now we use all features\n",
    "X_train = diabetes.data[:300, :]\n",
    "y_train = diabetes.target[:300, np.newaxis]\n",
    "X_test = diabetes.data[300:, :]\n",
    "y_test = diabetes.target[300:, np.newaxis]\n",
    "\n",
    "# generate the augmented feature matrix (bias + feature)\n",
    "X = np.c_[np.ones(X_train.shape[0]),X_train]\n",
    "\n",
    "# calculate residuals\n",
    "res = y_train - X @ beta\n",
    "res_test = res[:,0]\n",
    "\n",
    "# estimate the covariance matrix\n",
    "C = np.diag(res_test**2)\n",
    "d = np.linalg.inv(C)\n",
    "\n",
    "def wlsq(X, y, d):\n",
    "    \"\"\"\n",
    "    Weighted least squares linear regression\n",
    "    :param X: Input data matrix\n",
    "    :param y: Target vector\n",
    "    :return: Estimated coefficient vector for the linear regression\n",
    "    \"\"\"\n",
    "    # add column of ones for the intercept\n",
    "    ones = np.ones((len(X), 1))\n",
    "    X = np.concatenate((ones, X), axis=1)\n",
    "\n",
    "    # calculate the coefficients for weighted linear regression\n",
    "    #beta = np.linalg.inv(X.T @ d @ X) @ (X.T @ d @ y)\n",
    "    beta_test = np.dot(np.linalg.inv(np.dot(np.dot(X.T,d),X)),np.dot(np.dot(X.T,d),y))\n",
    "    \n",
    "    return beta_test\n",
    "\n",
    "# Calculate parameters\n",
    "beta_wlr = wlsq(X_train, y_train,d)\n",
    "\n",
    "# Add column of ones for the intercept\n",
    "ones = np.ones((len(X_test), 1))\n",
    "X_test_ones = np.concatenate((ones, X_test), axis=1)\n",
    "\n",
    "# Calculate the values of y predicted by the model\n",
    "y_pred = X_test_ones.dot(beta_wlr)\n",
    "\n",
    "# Calculate the root mean squared error and print the value\n",
    "RMSE = np.square(np.subtract(y_test,y_pred)).mean()\n",
    "print('Root Mean Squared Error is',RMSE)"
   ]
  },
  {
   "cell_type": "code",
   "execution_count": 7,
   "metadata": {},
   "outputs": [
    {
     "ename": "SyntaxError",
     "evalue": "invalid syntax (<ipython-input-7-7bb617560b74>, line 2)",
     "output_type": "error",
     "traceback": [
      "\u001b[1;36m  File \u001b[1;32m\"<ipython-input-7-7bb617560b74>\"\u001b[1;36m, line \u001b[1;32m2\u001b[0m\n\u001b[1;33m    w^ = argmax(1/(sqrt(2*pi)^m|d|)exp(-0.5(y-Xw).T d-1(y-Xw)))\u001b[0m\n\u001b[1;37m       ^\u001b[0m\n\u001b[1;31mSyntaxError\u001b[0m\u001b[1;31m:\u001b[0m invalid syntax\n"
     ]
    }
   ],
   "source": [
    "#derive expression for least square solution\n",
    "w^ = argmax(1/(sqrt(2*pi)^m|d|)exp(-0.5(y-Xw).T d-1(y-Xw)))\n",
    "w^ = argmax - 0.5(y-Xw).T d-1 (y-Xw)\n",
    "w^ = argmin(y-Xw).T d-1 (y-Xw)\n",
    "w^ = argmin(w.T X.T d-1 X.T w - 2 w.T X.T d-1 y)\n",
    "(2*X.T d-1 X.T W) - (2 X.T d-1 y) = 0\n",
    "w^=(X.T d-1 X)^-1 X.T d-1 y"
   ]
  },
  {
   "cell_type": "markdown",
   "metadata": {},
   "source": [
    "### $k$-NN classification\n",
    "\n",
    "Implement a $k$-Nearest neighbors classifier from scratch in Python using only basic matrix operations with `numpy` and `scipy`. Train and evaluate the classifier on the breast cancer dataset, using all features. Show the performance of the classifier for different values of $k$ (plot the results in a graph). Note that for optimal results, you should normalize the features (e.g. to the $[0, 1]$ range or to have a zero mean and unit standard deviation)."
   ]
  },
  {
   "cell_type": "code",
   "execution_count": null,
   "metadata": {},
   "outputs": [],
   "source": [
    "from kNN import *\n",
    "import matplotlib.pyplot as plt\n",
    "X_train = breast_cancer.data[:300]\n",
    "y_train = breast_cancer.target[:300]\n",
    "X_test = breast_cancer.data[300:]\n",
    "y_test = breast_cancer.target[300:]\n",
    "\n",
    "range_K = range(1,2) # The range of K's that are used for the kNN algorithm\n",
    "good_pred_list = []   # List for the rate of good predictions:all predictions for each K \n",
    "\n",
    "for K in range_K:\n",
    "    euclidean_matrix=eucledian_distance(X_test,X_train)\n",
    "    good_pred_list=kNN_prediction_classification(euclidean_matrix, y_train, y_test, K, good_pred_list)"
   ]
  },
  {
   "cell_type": "code",
   "execution_count": null,
   "metadata": {},
   "outputs": [],
   "source": [
    "plt.plot(range_K, good_pred_list)\n",
    "plt.xlabel('K')\n",
    "plt.ylabel('Rate of good predictions:all predictions')"
   ]
  },
  {
   "cell_type": "markdown",
   "metadata": {},
   "source": [
    "### $k$-NN regression\n",
    "\n",
    "Modify the $k$-NN implementation to do regression instead of classification. Compare the performance of the linear regression model and the $k$-NN regression model on the diabetes dataset for different values of $k$."
   ]
  },
  {
   "cell_type": "code",
   "execution_count": 9,
   "metadata": {},
   "outputs": [
    {
     "name": "stdout",
     "output_type": "stream",
     "text": [
      "MSE linear is 2794.5690145007284\n"
     ]
    },
    {
     "data": {
      "image/png": "[encoded data removed]",
      "text/plain": [
       "<Figure size 432x288 with 1 Axes>"
      ]
     },
     "metadata": {
      "needs_background": "light"
     },
     "output_type": "display_data"
    }
   ],
   "source": [
    "from kNN import *\n",
    "import matplotlib.pyplot as plt\n",
    "X_train = diabetes.data[:300, :]\n",
    "y_train = diabetes.target[:300, np.newaxis]\n",
    "X_test = diabetes.data[300:, :]\n",
    "y_lest = diabetes.target[300:, np.newaxis]\n",
    "\n",
    "#Linear regression\n",
    "ones = np.ones((len(X_test), 1))\n",
    "X_test_ones = np.concatenate((ones, X_test), axis=1)\n",
    "beta = lsq(X_train, y_train)\n",
    "y_pred=X_test_ones.dot(beta)\n",
    "\n",
    "MSE_linear = np.square(np.subtract(y_test,y_pred)).mean()\n",
    "print('MSE linear is', MSE_linear)\n",
    "\n",
    "#k-NN refression\n",
    "k_min=1\n",
    "k_max=20\n",
    "range_K = range(k_min,k_max) # The range of K's that are used for the kNN algorithm \n",
    "MSE_diff_list=[]\n",
    "for K in range_K:\n",
    "    euclidean_matrix=eucledian_distance(X_test,X_train)\n",
    "    y_pred_kNN=kNN_prediction_regression(euclidean_matrix, y_train, y_test, K)\n",
    "    MSE = np.square(np.subtract(y_test,y_pred_kNN)).mean()\n",
    "    #print('MSE for K=', K, 'is', MSE)\n",
    "    MSE_diff=MSE_linear-MSE\n",
    "    #print('MSE difference for K=', K, 'is', MSE_diff)\n",
    "    MSE_diff_list.append(MSE)\n",
    "plt.plot(range_K, MSE_diff_list, label='k-NN regression')\n",
    "plt.hlines(MSE_linear,k_min,k_max, 'orange', label='Linear regression')\n",
    "plt.xlabel('K')\n",
    "plt.ylabel('Mean squared error')\n",
    "plt.legend();"
   ]
  },
  {
   "cell_type": "markdown",
   "metadata": {},
   "source": [
    "### Class-conditional probability\n",
    "\n",
    "Compute and visualize the class-conditional probability (conditional probability where the class label is the conditional variable, i.e. $P(X = x \\mid Y = y_i)$ for all features in the breast cancer dataset. Assume a Gaussian distribution."
   ]
  },
  {
   "cell_type": "code",
   "execution_count": null,
   "metadata": {},
   "outputs": [],
   "source": [
    "X_bc = breast_cancer.data\n",
    "Y_bc = breast_cancer.target[:, np.newaxis]"
   ]
  },
  {
   "cell_type": "code",
   "execution_count": null,
   "metadata": {},
   "outputs": [],
   "source": [
    "from Probability import *"
   ]
  },
  {
   "cell_type": "code",
   "execution_count": null,
   "metadata": {},
   "outputs": [],
   "source": [
    "X_mal, X_ben = splitting_data(X_bc,Y_bc)\n",
    "\n",
    "#Calculate probability of Y\n",
    "mean_Y_bc = np.mean(Y_bc)\n",
    "std_Y_bc = np.std(Y_bc)\n",
    "\n",
    "pdf_Y_bc = normpdf(Y_bc,mean_Y_bc,std_Y_bc)\n",
    "\n",
    "pdf_X_bc = prob_per_marker(X_bc)\n",
    "\n",
    "#calculate probability of X depending on Y\n",
    "pdf_mal = prob_per_marker(X_mal) #has a shape of (30,212) for 30 genes and 212 data points\n",
    "pdf_ben = prob_per_marker(X_ben) #has a shape of (30,357) for 30 genes and 357 data points"
   ]
  },
  {
   "cell_type": "code",
   "execution_count": null,
   "metadata": {
    "scrolled": false
   },
   "outputs": [],
   "source": [
    "plotting_adj(X_mal, X_ben, pdf_mal, pdf_ben)"
   ]
  },
  {
   "cell_type": "markdown",
   "metadata": {},
   "source": [
    "With blue the malignant probability function and red the benign probability function. "
   ]
  },
  {
   "cell_type": "markdown",
   "metadata": {},
   "source": [
    "<p><font color='#770a0a'>Based on visual analysis of the plots, which individual feature can best discriminate between the two classes? Motivate your answer.</font></p>\n",
    "\n",
    "Answer still to add."
   ]
  }
 ],
 "metadata": {
  "kernelspec": {
   "display_name": "Python 3",
   "language": "python",
   "name": "python3"
  },
  "language_info": {
   "codemirror_mode": {
    "name": "ipython",
    "version": 3
   },
   "file_extension": ".py",
   "mimetype": "text/x-python",
   "name": "python",
   "nbconvert_exporter": "python",
   "pygments_lexer": "ipython3",
   "version": "3.6.13"
  }
 },
 "nbformat": 4,
 "nbformat_minor": 2
}
