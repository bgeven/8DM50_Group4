{
 "cells": [
  {
   "cell_type": "markdown",
   "metadata": {
    "colab_type": "text",
    "id": "view-in-github"
   },
   "source": [
    "<a href=\"https://colab.research.google.com/github/bgeven/8DM50_Group4/blob/main/Week5.ipynb\" target=\"_parent\"><img src=\"https://colab.research.google.com/assets/colab-badge.svg\" alt=\"Open In Colab\"/></a>"
   ]
  },
  {
   "cell_type": "markdown",
   "metadata": {
    "id": "t1rhzu_KRVfD"
   },
   "source": [
    "# Data synthesis using generative adversarial networks (GANs)\n",
    "\n",
    "In this practical session we will build and train generative adversarial networks that are able to generate images.\n",
    "\n",
    "This is a Google Colab notebook, which is mostly the same as a Jupyter notebook. This means that you can run the code in a cell by selecting the cell and pressing Shift+Enter. We will run everything in the cloud, so you don't need a fancy computer or an expensive GPU for this exercise. We are going to use GPUs that Google Cloud provides for free. To do this, go to Edit --> Notebook settings and select GPU as Hardware accelerator. Then, in the top right of this screen select 'CONNECT' --> 'Connect to hosted runtime'\n",
    "\n",
    "We are going to import some of the packages that we will need in this exercise (by running the cell below)\n",
    "\n",
    "The documentation for key packages can be found online: <br>\n",
    "For numpy: https://docs.scipy.org/doc/numpy-dev/user/quickstart.html <br>\n",
    "For matplotlib: http://matplotlib.org/api/pyplot_api.html <br>\n",
    "For Keras: https://keras.io/ <br>\n",
    "For random: https://docs.python.org/2/library/random.html <br>"
   ]
  },
  {
   "cell_type": "code",
   "execution_count": 4,
   "metadata": {
    "colab": {
     "base_uri": "https://localhost:8080/"
    },
    "id": "HV9fYTQRRQ6J",
    "outputId": "5dd50eef-4a91-4969-f366-15914e7da972"
   },
   "outputs": [
    {
     "name": "stdout",
     "output_type": "stream",
     "text": [
      "TensorFlow 1.x selected.\n"
     ]
    },
    {
     "name": "stderr",
     "output_type": "stream",
     "text": [
      "Using TensorFlow backend.\n"
     ]
    },
    {
     "name": "stdout",
     "output_type": "stream",
     "text": [
      "Found GPU at: /device:GPU:0\n"
     ]
    }
   ],
   "source": [
    "%tensorflow_version 1.x\n",
    "import pickle\n",
    "import gzip\n",
    "import numpy as np\n",
    "\n",
    "import matplotlib.pyplot as plt\n",
    "%matplotlib inline\n",
    "from matplotlib import rc\n",
    "from matplotlib import pylab\n",
    "from IPython import display\n",
    "\n",
    "import tensorflow as tf\n",
    "import keras\n",
    "keras.backend.set_image_data_format('channels_first')\n",
    "\n",
    "import time\n",
    "import random\n",
    "from google.colab import files\n",
    "from google.colab import widgets\n",
    "random.seed(0)\n",
    "\n",
    "# Check whether we're using a GPU\n",
    "device_name = tf.test.gpu_device_name()\n",
    "if device_name != '/device:GPU:0':\n",
    "  raise SystemError('GPU device not found')\n",
    "print('Found GPU at: {}'.format(device_name))\n",
    "\n",
    "tf.logging.set_verbosity(tf.logging.ERROR)"
   ]
  },
  {
   "cell_type": "markdown",
   "metadata": {
    "id": "Y9hTkVp1ESQW"
   },
   "source": [
    "## Small steps\n",
    "Before moving on to generating images, we will start with a simple 1D problem. We will assume that there is a data set of real samples that are drawn from a normal distribution with a particular mean value (the black dotted line below). These samples are in the sample domain *x*. \n",
    "\n",
    "The generator network does not know anything about the distribution of the real samples in the sample domain *x*, but will try to come up with a transformation that maps random noise from a distribution *z* to samples that seem to come from the real sample distribution (the green line below). This is very similar to what we have looked at in the lecture.\n",
    "\n",
    "<img src=\"https://cs.stanford.edu/people/karpathy/gan/gan.png\">\n",
    "\n",
    "For this, we will define two neural networks that play a game:\n",
    "*   The discriminator will learn to distinguish real and fake samples in *z*\n",
    "*   The generator will generate fake samples in *z* that the discriminator cannot discriminate\n",
    "\n",
    "First, we determine the mean value of the normal distribution from which **real** samples will be drawn in the sample domain *x*. In addition, we define the dimensionality of the normal distribution *z* from which noise samples to the generator will be drawn, i.e. the latent space. This will be 1 for now."
   ]
  },
  {
   "cell_type": "code",
   "execution_count": 5,
   "metadata": {
    "id": "rsg4CLVHgMeJ"
   },
   "outputs": [],
   "source": [
    "real_mean = 8\n",
    "latent_dim = 1"
   ]
  },
  {
   "cell_type": "markdown",
   "metadata": {
    "id": "2eLRuaRXgSKn"
   },
   "source": [
    "Next, we define our discriminator and generator. These are both very simple networks.\n",
    "\n",
    "**Question 1:** How many layers does each of these networks have? \n",
    "\n",
    "**Answer 1:** The discriminator and generator both have two layers, both dense layers.\n",
    "\n",
    "**Question 2:** Can you find out how many trainable parameters the networks have?\n",
    "\n",
    "**Answer 2:** The first dense layer has 64 trainable parameters (32 * (1+1)), the LeakyReLU has no trainable parameters and the second dense layer has (1 * (32 + 1)) trainable parameters. In total the network has 97 trainable parameters. \n",
    "\n",
    "**Question 3:** What are the activation functions of both networks? Why are they like this? \n",
    "\n",
    "**Answer 3:** Both networks use LeakyReLU as activation function between the two layers. For the dense layer in the discriminator a sigmoid function is used and for the dense layer in the generator no activation function is used (not needed as it has to output an image). The sigmoid function is used because it exists between 0 an 1 so it is useful to predict the probability (distinguish real and fake)."
   ]
  },
  {
   "cell_type": "code",
   "execution_count": 6,
   "metadata": {
    "id": "ACf058DjgZ9_"
   },
   "outputs": [],
   "source": [
    "# For easier reading\n",
    "from keras.layers.core import Reshape, Dense, Dropout, Flatten\n",
    "from keras.layers.advanced_activations import LeakyReLU\n",
    "\n",
    "# The discriminator will directly classify the input value\n",
    "def get_discriminator_1D():\n",
    "  discriminator = keras.models.Sequential()\n",
    "  discriminator.add(Dense(32, input_dim=1))\n",
    "  discriminator.add(LeakyReLU())\n",
    "  discriminator.add(Dense(1, activation='sigmoid'))\n",
    "  return discriminator\n",
    "\n",
    "# The generator will transform a single input value\n",
    "def get_generator_1D():\n",
    "  generator = keras.models.Sequential()\n",
    "  generator.add(Dense(32, input_dim=1))\n",
    "  generator.add(LeakyReLU())\n",
    "  generator.add(Dense(1))\n",
    "  return generator"
   ]
  },
  {
   "cell_type": "markdown",
   "metadata": {
    "id": "0QYrW32ehE3_"
   },
   "source": [
    "Now, we will define the training functions for both networks. Consider what is actually happening in a GAN and how the inputs and outputs are connected. There are three variables when training this GAN\n",
    "\n",
    "*   **z**: the noise that will be input to the generator\n",
    "*   **G_z**: the output of the generator, i.e. the samples that should approximate the real samples\n",
    "*   **D_G_z**: the discriminator's decision based on the fake sample\n",
    "\n",
    "The overall objective function of our system is as follows\n",
    "\n",
    "$V^{(D)}(D,G)=\\underset{x\\sim p_{data}}{\\mathbb{E}} [\\log{D(x)}]+\\underset{z\\sim p_z}{\\mathbb{E}} [\\log{(1-D(G(z)))}]$\n",
    "\n",
    "The generator $G$ is trying to minimize this loss, and the discriminator $D$ tries to maximize this. In other words, the discriminator wants to minimize the binary cross-entropy s.t. it predicts 1 for real samples and 0 for fake samples. At the same time, the generator tries to get the discriminator to predict 1 for fake samples.\n",
    "\n",
    "\n"
   ]
  },
  {
   "cell_type": "code",
   "execution_count": 7,
   "metadata": {
    "id": "H30WDcfXF7tY"
   },
   "outputs": [],
   "source": [
    "# Get networks\n",
    "discriminator = get_discriminator_1D()\n",
    "generator = get_generator_1D()\n",
    "\n",
    "# Configure both models for training\n",
    "discriminator.compile(loss='binary_crossentropy', optimizer=keras.optimizers.Adam(lr=0.0002, beta_1=0.5))\n",
    "generator.compile(loss='binary_crossentropy', optimizer=keras.optimizers.Adam(lr=0.0002, beta_1=0.5))\n",
    "\n",
    "# To configure the full model, we will set the 'trainable' parameter of the discriminator to False, as we don't want to optimize the discriminator when optimizing the generator\n",
    "discriminator.trainable = False\n",
    "\n",
    "# The input variable (noise) for the generator\n",
    "z = keras.layers.Input(shape=(latent_dim,))\n",
    "\n",
    "# What comes out of the generator\n",
    "G_z = generator(z)\n",
    "\n",
    "# What comes out of the discriminator when classifying the 'fake' samples\n",
    "D_G_z = discriminator(G_z)\n",
    "\n",
    "# The full GAN model\n",
    "gan = keras.models.Model(inputs=z, outputs=D_G_z)\n",
    "\n",
    "# The loss function for the GAN: this gets lower if the fake samples are classified as real\n",
    "gan.compile(loss='binary_crossentropy', optimizer=keras.optimizers.Adam(lr=0.0002, beta_1=0.5))"
   ]
  },
  {
   "cell_type": "markdown",
   "metadata": {
    "id": "7MlpUJ_716Tk"
   },
   "source": [
    "The code below runs the training loop. This could take a while. The code will periodically show a plot of the current situation.\n",
    "\n",
    "**Question 4:** Why do we set discriminator.trainable to either True or False?\n",
    "\n",
    "**Answer 4:** Because the discriminator has to distinguish real and fake samples. Real samples will be indicated with True and fake samples will be indicated with False."
   ]
  },
  {
   "cell_type": "code",
   "execution_count": null,
   "metadata": {
    "colab": {
     "base_uri": "https://localhost:8080/",
     "height": 0
    },
    "id": "ynLndgse0r9V",
    "outputId": "8c89c4d2-483b-406e-915b-d6f0a158e8f6"
   },
   "outputs": [
    {
     "data": {
      "text/html": [
       "<style>\n",
       "       table#id2, #id2 > tbody > tr > th, #id2 > tbody > tr > td {\n",
       "         border: 1px solid lightgray;\n",
       "         border-collapse:collapse;\n",
       "         \n",
       "        }</style>"
      ],
      "text/plain": [
       "<IPython.core.display.HTML object>"
      ]
     },
     "metadata": {},
     "output_type": "display_data"
    },
    {
     "data": {
      "text/html": [
       "<table id=id2><tr><td id=id2-0-0></td></tr></table>"
      ],
      "text/plain": [
       "<IPython.core.display.HTML object>"
      ]
     },
     "metadata": {},
     "output_type": "display_data"
    },
    {
     "data": {
      "application/javascript": [
       "window[\"853dbbaa-3031-11ec-897b-0242ac1c0002\"] = google.colab.output.getActiveOutputArea();\n",
       "//# sourceURL=js_f6121753f6"
      ],
      "text/plain": [
       "<IPython.core.display.Javascript object>"
      ]
     },
     "metadata": {},
     "output_type": "display_data"
    },
    {
     "data": {
      "application/javascript": [
       "window[\"853e2cca-3031-11ec-897b-0242ac1c0002\"] = document.querySelector(\"#id2-0-0\");\n",
       "//# sourceURL=js_1e7e808ac4"
      ],
      "text/plain": [
       "<IPython.core.display.Javascript object>"
      ]
     },
     "metadata": {},
     "output_type": "display_data"
    },
    {
     "data": {
      "application/javascript": [
       "window[\"853ee390-3031-11ec-897b-0242ac1c0002\"] = google.colab.output.setActiveOutputArea(window[\"853e2cca-3031-11ec-897b-0242ac1c0002\"]);\n",
       "//# sourceURL=js_273493ad92"
      ],
      "text/plain": [
       "<IPython.core.display.Javascript object>"
      ]
     },
     "metadata": {},
     "output_type": "display_data"
    },
    {
     "data": {
      "application/javascript": [
       "window[\"857089cc-3031-11ec-897b-0242ac1c0002\"] = google.colab.output.setActiveOutputArea(window[\"853dbbaa-3031-11ec-897b-0242ac1c0002\"]);\n",
       "//# sourceURL=js_fd2284dbb6"
      ],
      "text/plain": [
       "<IPython.core.display.Javascript object>"
      ]
     },
     "metadata": {},
     "output_type": "display_data"
    },
    {
     "data": {
      "application/javascript": [
       "window[\"864ac786-3031-11ec-897b-0242ac1c0002\"] = google.colab.output.getActiveOutputArea();\n",
       "//# sourceURL=js_ca0ac99dd6"
      ],
      "text/plain": [
       "<IPython.core.display.Javascript object>"
      ]
     },
     "metadata": {},
     "output_type": "display_data"
    },
    {
     "data": {
      "application/javascript": [
       "window[\"864b7ee2-3031-11ec-897b-0242ac1c0002\"] = document.querySelector(\"#id2-0-0\");\n",
       "//# sourceURL=js_b133623b11"
      ],
      "text/plain": [
       "<IPython.core.display.Javascript object>"
      ]
     },
     "metadata": {},
     "output_type": "display_data"
    },
    {
     "data": {
      "application/javascript": [
       "window[\"864c2f5e-3031-11ec-897b-0242ac1c0002\"] = google.colab.output.setActiveOutputArea(window[\"864b7ee2-3031-11ec-897b-0242ac1c0002\"]);\n",
       "//# sourceURL=js_923ab9e6da"
      ],
      "text/plain": [
       "<IPython.core.display.Javascript object>"
      ]
     },
     "metadata": {},
     "output_type": "display_data"
    },
    {
     "data": {
      "application/javascript": [
       "window[\"86773258-3031-11ec-897b-0242ac1c0002\"] = google.colab.output.setActiveOutputArea(window[\"864ac786-3031-11ec-897b-0242ac1c0002\"]);\n",
       "//# sourceURL=js_05ff79f0b9"
      ],
      "text/plain": [
       "<IPython.core.display.Javascript object>"
      ]
     },
     "metadata": {},
     "output_type": "display_data"
    },
    {
     "data": {
      "application/javascript": [
       "window[\"87591790-3031-11ec-897b-0242ac1c0002\"] = google.colab.output.getActiveOutputArea();\n",
       "//# sourceURL=js_b8bd96f882"
      ],
      "text/plain": [
       "<IPython.core.display.Javascript object>"
      ]
     },
     "metadata": {},
     "output_type": "display_data"
    },
    {
     "data": {
      "application/javascript": [
       "window[\"8759d2f2-3031-11ec-897b-0242ac1c0002\"] = document.querySelector(\"#id2-0-0\");\n",
       "//# sourceURL=js_13d03f7501"
      ],
      "text/plain": [
       "<IPython.core.display.Javascript object>"
      ]
     },
     "metadata": {},
     "output_type": "display_data"
    },
    {
     "data": {
      "application/javascript": [
       "window[\"875acd7e-3031-11ec-897b-0242ac1c0002\"] = google.colab.output.setActiveOutputArea(window[\"8759d2f2-3031-11ec-897b-0242ac1c0002\"]);\n",
       "//# sourceURL=js_9bb853155e"
      ],
      "text/plain": [
       "<IPython.core.display.Javascript object>"
      ]
     },
     "metadata": {},
     "output_type": "display_data"
    },
    {
     "data": {
      "application/javascript": [
       "window[\"8786cab4-3031-11ec-897b-0242ac1c0002\"] = google.colab.output.setActiveOutputArea(window[\"87591790-3031-11ec-897b-0242ac1c0002\"]);\n",
       "//# sourceURL=js_6bc4974d52"
      ],
      "text/plain": [
       "<IPython.core.display.Javascript object>"
      ]
     },
     "metadata": {},
     "output_type": "display_data"
    },
    {
     "data": {
      "application/javascript": [
       "window[\"8862bf10-3031-11ec-897b-0242ac1c0002\"] = google.colab.output.getActiveOutputArea();\n",
       "//# sourceURL=js_a7a19933a5"
      ],
      "text/plain": [
       "<IPython.core.display.Javascript object>"
      ]
     },
     "metadata": {},
     "output_type": "display_data"
    },
    {
     "data": {
      "application/javascript": [
       "window[\"886333fa-3031-11ec-897b-0242ac1c0002\"] = document.querySelector(\"#id2-0-0\");\n",
       "//# sourceURL=js_2af575d981"
      ],
      "text/plain": [
       "<IPython.core.display.Javascript object>"
      ]
     },
     "metadata": {},
     "output_type": "display_data"
    },
    {
     "data": {
      "application/javascript": [
       "window[\"8863bfa0-3031-11ec-897b-0242ac1c0002\"] = google.colab.output.setActiveOutputArea(window[\"886333fa-3031-11ec-897b-0242ac1c0002\"]);\n",
       "//# sourceURL=js_60cad6c1f9"
      ],
      "text/plain": [
       "<IPython.core.display.Javascript object>"
      ]
     },
     "metadata": {},
     "output_type": "display_data"
    },
    {
     "data": {
      "application/javascript": [
       "window[\"8899c0fa-3031-11ec-897b-0242ac1c0002\"] = google.colab.output.setActiveOutputArea(window[\"8862bf10-3031-11ec-897b-0242ac1c0002\"]);\n",
       "//# sourceURL=js_e9442fab6c"
      ],
      "text/plain": [
       "<IPython.core.display.Javascript object>"
      ]
     },
     "metadata": {},
     "output_type": "display_data"
    },
    {
     "data": {
      "application/javascript": [
       "window[\"89730b4e-3031-11ec-897b-0242ac1c0002\"] = google.colab.output.getActiveOutputArea();\n",
       "//# sourceURL=js_b09369ae00"
      ],
      "text/plain": [
       "<IPython.core.display.Javascript object>"
      ]
     },
     "metadata": {},
     "output_type": "display_data"
    },
    {
     "data": {
      "application/javascript": [
       "window[\"8973db32-3031-11ec-897b-0242ac1c0002\"] = document.querySelector(\"#id2-0-0\");\n",
       "//# sourceURL=js_f014768ffd"
      ],
      "text/plain": [
       "<IPython.core.display.Javascript object>"
      ]
     },
     "metadata": {},
     "output_type": "display_data"
    },
    {
     "data": {
      "application/javascript": [
       "window[\"8975ef62-3031-11ec-897b-0242ac1c0002\"] = google.colab.output.setActiveOutputArea(window[\"8973db32-3031-11ec-897b-0242ac1c0002\"]);\n",
       "//# sourceURL=js_971081d753"
      ],
      "text/plain": [
       "<IPython.core.display.Javascript object>"
      ]
     },
     "metadata": {},
     "output_type": "display_data"
    },
    {
     "data": {
      "application/javascript": [
       "window[\"89a17286-3031-11ec-897b-0242ac1c0002\"] = google.colab.output.setActiveOutputArea(window[\"89730b4e-3031-11ec-897b-0242ac1c0002\"]);\n",
       "//# sourceURL=js_7d94cfae0e"
      ],
      "text/plain": [
       "<IPython.core.display.Javascript object>"
      ]
     },
     "metadata": {},
     "output_type": "display_data"
    },
    {
     "data": {
      "application/javascript": [
       "window[\"8a7a2702-3031-11ec-897b-0242ac1c0002\"] = google.colab.output.getActiveOutputArea();\n",
       "//# sourceURL=js_107fbc01cf"
      ],
      "text/plain": [
       "<IPython.core.display.Javascript object>"
      ]
     },
     "metadata": {},
     "output_type": "display_data"
    },
    {
     "data": {
      "application/javascript": [
       "window[\"8a7ae250-3031-11ec-897b-0242ac1c0002\"] = document.querySelector(\"#id2-0-0\");\n",
       "//# sourceURL=js_bf488e20a4"
      ],
      "text/plain": [
       "<IPython.core.display.Javascript object>"
      ]
     },
     "metadata": {},
     "output_type": "display_data"
    },
    {
     "data": {
      "application/javascript": [
       "window[\"8a7bb75c-3031-11ec-897b-0242ac1c0002\"] = google.colab.output.setActiveOutputArea(window[\"8a7ae250-3031-11ec-897b-0242ac1c0002\"]);\n",
       "//# sourceURL=js_5d9e26a859"
      ],
      "text/plain": [
       "<IPython.core.display.Javascript object>"
      ]
     },
     "metadata": {},
     "output_type": "display_data"
    },
    {
     "data": {
      "application/javascript": [
       "window[\"8aa8e09c-3031-11ec-897b-0242ac1c0002\"] = google.colab.output.setActiveOutputArea(window[\"8a7a2702-3031-11ec-897b-0242ac1c0002\"]);\n",
       "//# sourceURL=js_fd23d521cc"
      ],
      "text/plain": [
       "<IPython.core.display.Javascript object>"
      ]
     },
     "metadata": {},
     "output_type": "display_data"
    },
    {
     "data": {
      "application/javascript": [
       "window[\"8b7f1676-3031-11ec-897b-0242ac1c0002\"] = google.colab.output.getActiveOutputArea();\n",
       "//# sourceURL=js_8ee4bc29db"
      ],
      "text/plain": [
       "<IPython.core.display.Javascript object>"
      ]
     },
     "metadata": {},
     "output_type": "display_data"
    },
    {
     "data": {
      "application/javascript": [
       "window[\"8b7fe006-3031-11ec-897b-0242ac1c0002\"] = document.querySelector(\"#id2-0-0\");\n",
       "//# sourceURL=js_4eff05e42e"
      ],
      "text/plain": [
       "<IPython.core.display.Javascript object>"
      ]
     },
     "metadata": {},
     "output_type": "display_data"
    },
    {
     "data": {
      "application/javascript": [
       "window[\"8b80acde-3031-11ec-897b-0242ac1c0002\"] = google.colab.output.setActiveOutputArea(window[\"8b7fe006-3031-11ec-897b-0242ac1c0002\"]);\n",
       "//# sourceURL=js_d9cdca0dd0"
      ],
      "text/plain": [
       "<IPython.core.display.Javascript object>"
      ]
     },
     "metadata": {},
     "output_type": "display_data"
    },
    {
     "data": {
      "application/javascript": [
       "window[\"8babe520-3031-11ec-897b-0242ac1c0002\"] = google.colab.output.setActiveOutputArea(window[\"8b7f1676-3031-11ec-897b-0242ac1c0002\"]);\n",
       "//# sourceURL=js_6fa3516ef4"
      ],
      "text/plain": [
       "<IPython.core.display.Javascript object>"
      ]
     },
     "metadata": {},
     "output_type": "display_data"
    },
    {
     "data": {
      "application/javascript": [
       "window[\"8c824f2a-3031-11ec-897b-0242ac1c0002\"] = google.colab.output.getActiveOutputArea();\n",
       "//# sourceURL=js_76658a698e"
      ],
      "text/plain": [
       "<IPython.core.display.Javascript object>"
      ]
     },
     "metadata": {},
     "output_type": "display_data"
    },
    {
     "data": {
      "application/javascript": [
       "window[\"8c832076-3031-11ec-897b-0242ac1c0002\"] = document.querySelector(\"#id2-0-0\");\n",
       "//# sourceURL=js_cfb3811d75"
      ],
      "text/plain": [
       "<IPython.core.display.Javascript object>"
      ]
     },
     "metadata": {},
     "output_type": "display_data"
    },
    {
     "data": {
      "application/javascript": [
       "window[\"8c83e86c-3031-11ec-897b-0242ac1c0002\"] = google.colab.output.setActiveOutputArea(window[\"8c832076-3031-11ec-897b-0242ac1c0002\"]);\n",
       "//# sourceURL=js_bfadf1fa3e"
      ],
      "text/plain": [
       "<IPython.core.display.Javascript object>"
      ]
     },
     "metadata": {},
     "output_type": "display_data"
    },
    {
     "data": {
      "application/javascript": [
       "window[\"8cb0191e-3031-11ec-897b-0242ac1c0002\"] = google.colab.output.setActiveOutputArea(window[\"8c824f2a-3031-11ec-897b-0242ac1c0002\"]);\n",
       "//# sourceURL=js_c3dc68a4ab"
      ],
      "text/plain": [
       "<IPython.core.display.Javascript object>"
      ]
     },
     "metadata": {},
     "output_type": "display_data"
    },
    {
     "data": {
      "application/javascript": [
       "window[\"8d8ee5a4-3031-11ec-897b-0242ac1c0002\"] = google.colab.output.getActiveOutputArea();\n",
       "//# sourceURL=js_30770d0656"
      ],
      "text/plain": [
       "<IPython.core.display.Javascript object>"
      ]
     },
     "metadata": {},
     "output_type": "display_data"
    },
    {
     "data": {
      "application/javascript": [
       "window[\"8d8f8b4e-3031-11ec-897b-0242ac1c0002\"] = document.querySelector(\"#id2-0-0\");\n",
       "//# sourceURL=js_e3fe83cd6b"
      ],
      "text/plain": [
       "<IPython.core.display.Javascript object>"
      ]
     },
     "metadata": {},
     "output_type": "display_data"
    },
    {
     "data": {
      "application/javascript": [
       "window[\"8d9029a0-3031-11ec-897b-0242ac1c0002\"] = google.colab.output.setActiveOutputArea(window[\"8d8f8b4e-3031-11ec-897b-0242ac1c0002\"]);\n",
       "//# sourceURL=js_0844d65bed"
      ],
      "text/plain": [
       "<IPython.core.display.Javascript object>"
      ]
     },
     "metadata": {},
     "output_type": "display_data"
    },
    {
     "data": {
      "application/javascript": [
       "window[\"8dbadda8-3031-11ec-897b-0242ac1c0002\"] = google.colab.output.setActiveOutputArea(window[\"8d8ee5a4-3031-11ec-897b-0242ac1c0002\"]);\n",
       "//# sourceURL=js_a512ef76a2"
      ],
      "text/plain": [
       "<IPython.core.display.Javascript object>"
      ]
     },
     "metadata": {},
     "output_type": "display_data"
    },
    {
     "data": {
      "application/javascript": [
       "window[\"8e932dfc-3031-11ec-897b-0242ac1c0002\"] = google.colab.output.getActiveOutputArea();\n",
       "//# sourceURL=js_4c38336d92"
      ],
      "text/plain": [
       "<IPython.core.display.Javascript object>"
      ]
     },
     "metadata": {},
     "output_type": "display_data"
    },
    {
     "data": {
      "application/javascript": [
       "window[\"8e93fa16-3031-11ec-897b-0242ac1c0002\"] = document.querySelector(\"#id2-0-0\");\n",
       "//# sourceURL=js_dab7001e8e"
      ],
      "text/plain": [
       "<IPython.core.display.Javascript object>"
      ]
     },
     "metadata": {},
     "output_type": "display_data"
    },
    {
     "data": {
      "application/javascript": [
       "window[\"8e94c5d6-3031-11ec-897b-0242ac1c0002\"] = google.colab.output.setActiveOutputArea(window[\"8e93fa16-3031-11ec-897b-0242ac1c0002\"]);\n",
       "//# sourceURL=js_f34c97e9d5"
      ],
      "text/plain": [
       "<IPython.core.display.Javascript object>"
      ]
     },
     "metadata": {},
     "output_type": "display_data"
    },
    {
     "data": {
      "application/javascript": [
       "window[\"8ec15a10-3031-11ec-897b-0242ac1c0002\"] = google.colab.output.setActiveOutputArea(window[\"8e932dfc-3031-11ec-897b-0242ac1c0002\"]);\n",
       "//# sourceURL=js_971912db6a"
      ],
      "text/plain": [
       "<IPython.core.display.Javascript object>"
      ]
     },
     "metadata": {},
     "output_type": "display_data"
    },
    {
     "data": {
      "application/javascript": [
       "window[\"8f9c0e58-3031-11ec-897b-0242ac1c0002\"] = google.colab.output.getActiveOutputArea();\n",
       "//# sourceURL=js_feb816def1"
      ],
      "text/plain": [
       "<IPython.core.display.Javascript object>"
      ]
     },
     "metadata": {},
     "output_type": "display_data"
    },
    {
     "data": {
      "application/javascript": [
       "window[\"8f9ce224-3031-11ec-897b-0242ac1c0002\"] = document.querySelector(\"#id2-0-0\");\n",
       "//# sourceURL=js_89f36c5699"
      ],
      "text/plain": [
       "<IPython.core.display.Javascript object>"
      ]
     },
     "metadata": {},
     "output_type": "display_data"
    },
    {
     "data": {
      "application/javascript": [
       "window[\"8f9da560-3031-11ec-897b-0242ac1c0002\"] = google.colab.output.setActiveOutputArea(window[\"8f9ce224-3031-11ec-897b-0242ac1c0002\"]);\n",
       "//# sourceURL=js_c940267b0b"
      ],
      "text/plain": [
       "<IPython.core.display.Javascript object>"
      ]
     },
     "metadata": {},
     "output_type": "display_data"
    },
    {
     "data": {
      "application/javascript": [
       "window[\"8fcfbcee-3031-11ec-897b-0242ac1c0002\"] = google.colab.output.setActiveOutputArea(window[\"8f9c0e58-3031-11ec-897b-0242ac1c0002\"]);\n",
       "//# sourceURL=js_5617dd67a1"
      ],
      "text/plain": [
       "<IPython.core.display.Javascript object>"
      ]
     },
     "metadata": {},
     "output_type": "display_data"
    },
    {
     "data": {
      "application/javascript": [
       "window[\"90aa6d80-3031-11ec-897b-0242ac1c0002\"] = google.colab.output.getActiveOutputArea();\n",
       "//# sourceURL=js_e5ecfe3dcc"
      ],
      "text/plain": [
       "<IPython.core.display.Javascript object>"
      ]
     },
     "metadata": {},
     "output_type": "display_data"
    },
    {
     "data": {
      "application/javascript": [
       "window[\"90aad964-3031-11ec-897b-0242ac1c0002\"] = document.querySelector(\"#id2-0-0\");\n",
       "//# sourceURL=js_2def667f46"
      ],
      "text/plain": [
       "<IPython.core.display.Javascript object>"
      ]
     },
     "metadata": {},
     "output_type": "display_data"
    },
    {
     "data": {
      "application/javascript": [
       "window[\"90ab53ee-3031-11ec-897b-0242ac1c0002\"] = google.colab.output.setActiveOutputArea(window[\"90aad964-3031-11ec-897b-0242ac1c0002\"]);\n",
       "//# sourceURL=js_947a49c75d"
      ],
      "text/plain": [
       "<IPython.core.display.Javascript object>"
      ]
     },
     "metadata": {},
     "output_type": "display_data"
    },
    {
     "data": {
      "application/javascript": [
       "window[\"90d71ed4-3031-11ec-897b-0242ac1c0002\"] = google.colab.output.setActiveOutputArea(window[\"90aa6d80-3031-11ec-897b-0242ac1c0002\"]);\n",
       "//# sourceURL=js_ce96acff8b"
      ],
      "text/plain": [
       "<IPython.core.display.Javascript object>"
      ]
     },
     "metadata": {},
     "output_type": "display_data"
    },
    {
     "data": {
      "application/javascript": [
       "window[\"91ad1836-3031-11ec-897b-0242ac1c0002\"] = google.colab.output.getActiveOutputArea();\n",
       "//# sourceURL=js_cb1fc74849"
      ],
      "text/plain": [
       "<IPython.core.display.Javascript object>"
      ]
     },
     "metadata": {},
     "output_type": "display_data"
    },
    {
     "data": {
      "application/javascript": [
       "window[\"91adde42-3031-11ec-897b-0242ac1c0002\"] = document.querySelector(\"#id2-0-0\");\n",
       "//# sourceURL=js_bd6d4d7a44"
      ],
      "text/plain": [
       "<IPython.core.display.Javascript object>"
      ]
     },
     "metadata": {},
     "output_type": "display_data"
    },
    {
     "data": {
      "application/javascript": [
       "window[\"91aeaafc-3031-11ec-897b-0242ac1c0002\"] = google.colab.output.setActiveOutputArea(window[\"91adde42-3031-11ec-897b-0242ac1c0002\"]);\n",
       "//# sourceURL=js_5835933158"
      ],
      "text/plain": [
       "<IPython.core.display.Javascript object>"
      ]
     },
     "metadata": {},
     "output_type": "display_data"
    },
    {
     "data": {
      "application/javascript": [
       "window[\"91dbe9f4-3031-11ec-897b-0242ac1c0002\"] = google.colab.output.setActiveOutputArea(window[\"91ad1836-3031-11ec-897b-0242ac1c0002\"]);\n",
       "//# sourceURL=js_1ba2f033bb"
      ],
      "text/plain": [
       "<IPython.core.display.Javascript object>"
      ]
     },
     "metadata": {},
     "output_type": "display_data"
    },
    {
     "data": {
      "application/javascript": [
       "window[\"92b37a9a-3031-11ec-897b-0242ac1c0002\"] = google.colab.output.getActiveOutputArea();\n",
       "//# sourceURL=js_16318a4ea4"
      ],
      "text/plain": [
       "<IPython.core.display.Javascript object>"
      ]
     },
     "metadata": {},
     "output_type": "display_data"
    },
    {
     "data": {
      "application/javascript": [
       "window[\"92b412e8-3031-11ec-897b-0242ac1c0002\"] = document.querySelector(\"#id2-0-0\");\n",
       "//# sourceURL=js_b5096ab110"
      ],
      "text/plain": [
       "<IPython.core.display.Javascript object>"
      ]
     },
     "metadata": {},
     "output_type": "display_data"
    },
    {
     "data": {
      "application/javascript": [
       "window[\"92b4eb6e-3031-11ec-897b-0242ac1c0002\"] = google.colab.output.setActiveOutputArea(window[\"92b412e8-3031-11ec-897b-0242ac1c0002\"]);\n",
       "//# sourceURL=js_ddb3f7edbd"
      ],
      "text/plain": [
       "<IPython.core.display.Javascript object>"
      ]
     },
     "metadata": {},
     "output_type": "display_data"
    },
    {
     "data": {
      "application/javascript": [
       "window[\"92e1d322-3031-11ec-897b-0242ac1c0002\"] = google.colab.output.setActiveOutputArea(window[\"92b37a9a-3031-11ec-897b-0242ac1c0002\"]);\n",
       "//# sourceURL=js_1ceb749609"
      ],
      "text/plain": [
       "<IPython.core.display.Javascript object>"
      ]
     },
     "metadata": {},
     "output_type": "display_data"
    },
    {
     "data": {
      "application/javascript": [
       "window[\"93be8718-3031-11ec-897b-0242ac1c0002\"] = google.colab.output.getActiveOutputArea();\n",
       "//# sourceURL=js_7cc610a6a3"
      ],
      "text/plain": [
       "<IPython.core.display.Javascript object>"
      ]
     },
     "metadata": {},
     "output_type": "display_data"
    },
    {
     "data": {
      "application/javascript": [
       "window[\"93d427ee-3031-11ec-897b-0242ac1c0002\"] = document.querySelector(\"#id2-0-0\");\n",
       "//# sourceURL=js_01468aea28"
      ],
      "text/plain": [
       "<IPython.core.display.Javascript object>"
      ]
     },
     "metadata": {},
     "output_type": "display_data"
    },
    {
     "data": {
      "application/javascript": [
       "window[\"93d4ccda-3031-11ec-897b-0242ac1c0002\"] = google.colab.output.setActiveOutputArea(window[\"93d427ee-3031-11ec-897b-0242ac1c0002\"]);\n",
       "//# sourceURL=js_c9b06c2d1a"
      ],
      "text/plain": [
       "<IPython.core.display.Javascript object>"
      ]
     },
     "metadata": {},
     "output_type": "display_data"
    },
    {
     "data": {
      "application/javascript": [
       "window[\"9404b60c-3031-11ec-897b-0242ac1c0002\"] = google.colab.output.setActiveOutputArea(window[\"93be8718-3031-11ec-897b-0242ac1c0002\"]);\n",
       "//# sourceURL=js_9d8f3ab17c"
      ],
      "text/plain": [
       "<IPython.core.display.Javascript object>"
      ]
     },
     "metadata": {},
     "output_type": "display_data"
    },
    {
     "data": {
      "application/javascript": [
       "window[\"94ddf764-3031-11ec-897b-0242ac1c0002\"] = google.colab.output.getActiveOutputArea();\n",
       "//# sourceURL=js_9811bc6eb3"
      ],
      "text/plain": [
       "<IPython.core.display.Javascript object>"
      ]
     },
     "metadata": {},
     "output_type": "display_data"
    },
    {
     "data": {
      "application/javascript": [
       "window[\"94dee318-3031-11ec-897b-0242ac1c0002\"] = document.querySelector(\"#id2-0-0\");\n",
       "//# sourceURL=js_9511027cb2"
      ],
      "text/plain": [
       "<IPython.core.display.Javascript object>"
      ]
     },
     "metadata": {},
     "output_type": "display_data"
    },
    {
     "data": {
      "application/javascript": [
       "window[\"94dfd5de-3031-11ec-897b-0242ac1c0002\"] = google.colab.output.setActiveOutputArea(window[\"94dee318-3031-11ec-897b-0242ac1c0002\"]);\n",
       "//# sourceURL=js_a4f4dd9ed2"
      ],
      "text/plain": [
       "<IPython.core.display.Javascript object>"
      ]
     },
     "metadata": {},
     "output_type": "display_data"
    },
    {
     "data": {
      "image/png": "[encoded data removed]",
      "text/plain": [
       "<Figure size 432x288 with 1 Axes>"
      ]
     },
     "metadata": {
      "needs_background": "light"
     },
     "output_type": "display_data"
    },
    {
     "data": {
      "application/javascript": [
       "window[\"9511182e-3031-11ec-897b-0242ac1c0002\"] = google.colab.output.setActiveOutputArea(window[\"94ddf764-3031-11ec-897b-0242ac1c0002\"]);\n",
       "//# sourceURL=js_9aa96dbfff"
      ],
      "text/plain": [
       "<IPython.core.display.Javascript object>"
      ]
     },
     "metadata": {},
     "output_type": "display_data"
    }
   ],
   "source": [
    "# We will store the losses here\n",
    "g_losses = []\n",
    "d_losses = []\n",
    "\n",
    "# Training loop\n",
    "n_samples = 100\n",
    "epochs = 10000\n",
    "\n",
    "grid = widgets.Grid(1, 1)\n",
    "\n",
    "for e in range(epochs):\n",
    "  # Get a random Gaussian set of input noise\n",
    "  #noise = np.random.normal(0, 1, size=[n_samples, latent_dim])\n",
    "\n",
    "  # Get a random uniform set of input noise\n",
    "  noise = np.random.uniform(0, 1, size=[n_samples, latent_dim])\n",
    "\n",
    "  # Also get a sample from the 'real' distribution\n",
    "  real = np.random.normal(real_mean, 1, size=[n_samples, latent_dim])\n",
    "\n",
    "  # Generate some fake samples using the generator\n",
    "  fake = generator.predict(noise)\n",
    "\n",
    "  # Concatenate the fake and real images\n",
    "  X = np.concatenate([real, fake])\n",
    "\n",
    "  # Labels for generated and real data\n",
    "  Y_dis = np.zeros(2*n_samples)\n",
    "  \n",
    "  # Set labels for real samples to 1\n",
    "  Y_dis[:n_samples] = 1\n",
    "\n",
    "  # Train discriminator with this batch of samples\n",
    "  discriminator.trainable = True\n",
    "  d_loss = discriminator.train_on_batch(X, Y_dis)\n",
    "  d_losses.append(d_loss)\n",
    "  \n",
    "  # Train generator with a new batch of generated samples\n",
    "  # Freeze the discriminator part\n",
    "  discriminator.trainable = False \n",
    "  noise = np.random.normal(0, 1, size=[n_samples, latent_dim])\n",
    "  # From the generator's perspective, the discriminator should predict\n",
    "  # ones for all samples\n",
    "  Y_gen = np.ones(n_samples)\n",
    "  g_loss = gan.train_on_batch(noise, Y_gen)\n",
    "  g_losses.append(g_loss)\n",
    "  \n",
    "  if e % 100 == 0:\n",
    "    noise = np.random.normal(0, 1, size=[n_samples, latent_dim])\n",
    "    fake = generator.predict(noise)        \n",
    "    real = np.random.normal(real_mean, 1, size=[n_samples, latent_dim])\n",
    "    pred = discriminator.predict(np.arange(-20, 20, 0.5).reshape((80, 1)))\n",
    "    with grid.output_to(0, 0):\n",
    "      grid.clear_cell()\n",
    "      \n",
    "      # plt.clf()\n",
    "      pylab.hist((np.squeeze(fake), np.squeeze(real)), density=True, stacked=True)\n",
    "      pylab.scatter(np.arange(-20, 20, 0.5), pred, c='r')     \n",
    "      pylab.xlim(-20, 20)\n",
    "      pylab.ylim(0, 1)\n",
    "      pylab.title('Iteration {}'.format(e))\n",
    "      pylab.legend(['Discriminator', 'Fake', 'Real'])\n",
    "    time.sleep(0.5)"
   ]
  },
  {
   "cell_type": "markdown",
   "metadata": {
    "id": "TbNFeFkSbXoN"
   },
   "source": [
    "If all is well, the fake and real distributions should nicely overlap after training. The discriminator has essentially pushed the fake samples towards the real distribution and the generator is now able to transform the noise distribution into a distribution of 'real' samples!\n",
    "\n",
    "**Question 5:** Can you explain what happened to the red line during training? Why does it look like it does after training?\n",
    "\n",
    "**Answer 5:** The discriminator becomes better and pushes the fake samples towards the real distribution and a balance exists between the discriminator and generator. Therefore, the red line (discriminator) goes towards 0.5.\n",
    "\n",
    "**Question 6:** Try training the GAN with different input noise distributions, e.g. uniform. See if you can find a distribution for the real samples for which the generator fails to generate samples.\n",
    "\n",
    "**Answer 6:** ????"
   ]
  },
  {
   "cell_type": "markdown",
   "metadata": {
    "id": "LuZBMvf4NWvD"
   },
   "source": [
    "During training, we have stored the loss values for the discriminator and the generator. We can now plot these. Remember that for the digit classification task, we were looking for a set of parameters leading to a low loss function. \n",
    "\n",
    "**Question 7:** The loss curves that you get look different. Can you explain why they're not nicely dropping to zero? Can you explain the loss in the discriminator based on the objective function of the discriminator?\n",
    "\n",
    "**Answer 7:** The generator tries to minimize the loss function and the discriminator tries to maximize it. The reason for the discriminator not dropping to zero and the generator to be closer to one means that the generator is successful at generating fake samples which are classified as real by the discriminator. The point of these functions is to have losses that counterbalance one another. If the loss of the discriminator drops to zero it means that the discriminator is doing a too good job (can distinguish real and fake) and the generator does a too bad job (generations are not close enough to the real data). So, if one of the losses goes to zero, it means that the system is failing, and the generator cannot improve in the next iteration."
   ]
  },
  {
   "cell_type": "code",
   "execution_count": null,
   "metadata": {
    "id": "61bpDVDJNf12"
   },
   "outputs": [],
   "source": [
    "plt.figure(figsize=(10, 8))\n",
    "plt.subplot(1, 2, 1)\n",
    "plt.plot(d_losses)\n",
    "plt.title('Discriminator loss')\n",
    "plt.xlabel('Epoch')\n",
    "plt.ylabel('Loss')\n",
    "plt.subplot(1, 2, 2)\n",
    "plt.plot(g_losses)\n",
    "plt.title('Generator loss')\n",
    "plt.xlabel('Epoch')\n",
    "plt.ylabel('Loss')\n",
    "plt.legend()\n",
    "plt.show()"
   ]
  },
  {
   "cell_type": "markdown",
   "metadata": {
    "id": "dreog2u1b-iI"
   },
   "source": [
    "Although it is definitely nice that we can train two networks together to learn the distribution of a real data distribution, generating samples from a normal distribution is in itself not really interesting. Luckily, we can use the same principles to generate images."
   ]
  },
  {
   "cell_type": "markdown",
   "metadata": {
    "id": "4hq5i_sySZL1"
   },
   "source": [
    "# MNIST synthesis\n",
    "Like last week, we are again going to use MNIST data. Data preparation is the same as before."
   ]
  },
  {
   "cell_type": "code",
   "execution_count": 1,
   "metadata": {
    "colab": {
     "base_uri": "https://localhost:8080/",
     "height": 378
    },
    "id": "CYCMGnXnFnZc",
    "outputId": "6f1b3716-3560-4628-f67a-ba357aca2a91"
   },
   "outputs": [
    {
     "ename": "ImportError",
     "errorDetails": {
      "actions": [
       {
        "action": "open_url",
        "actionText": "Open Examples",
        "url": "/notebooks/snippets/importing_libraries.ipynb"
       }
      ]
     },
     "evalue": "ignored",
     "output_type": "error",
     "traceback": [
      "\u001b[0;31m---------------------------------------------------------------------------\u001b[0m",
      "\u001b[0;31mImportError\u001b[0m                               Traceback (most recent call last)",
      "\u001b[0;32m<ipython-input-1-5a9901ddab8f>\u001b[0m in \u001b[0;36m<module>\u001b[0;34m()\u001b[0m\n\u001b[1;32m      1\u001b[0m \u001b[0;32mfrom\u001b[0m \u001b[0mkeras\u001b[0m\u001b[0;34m.\u001b[0m\u001b[0mdatasets\u001b[0m \u001b[0;32mimport\u001b[0m \u001b[0mmnist\u001b[0m\u001b[0;34m\u001b[0m\u001b[0;34m\u001b[0m\u001b[0m\n\u001b[0;32m----> 2\u001b[0;31m \u001b[0;32mfrom\u001b[0m \u001b[0mkeras\u001b[0m\u001b[0;34m.\u001b[0m\u001b[0mutils\u001b[0m \u001b[0;32mimport\u001b[0m \u001b[0mto_categorical\u001b[0m\u001b[0;34m\u001b[0m\u001b[0;34m\u001b[0m\u001b[0m\n\u001b[0m\u001b[1;32m      3\u001b[0m \u001b[0;34m\u001b[0m\u001b[0m\n\u001b[1;32m      4\u001b[0m \u001b[0;31m# load the MNIST the dataset\u001b[0m\u001b[0;34m\u001b[0m\u001b[0;34m\u001b[0m\u001b[0;34m\u001b[0m\u001b[0m\n\u001b[1;32m      5\u001b[0m \u001b[0;34m(\u001b[0m\u001b[0mx_train\u001b[0m\u001b[0;34m,\u001b[0m \u001b[0my_train\u001b[0m\u001b[0;34m)\u001b[0m\u001b[0;34m,\u001b[0m \u001b[0;34m(\u001b[0m\u001b[0mx_test\u001b[0m\u001b[0;34m,\u001b[0m \u001b[0my_test\u001b[0m\u001b[0;34m)\u001b[0m \u001b[0;34m=\u001b[0m \u001b[0mmnist\u001b[0m\u001b[0;34m.\u001b[0m\u001b[0mload_data\u001b[0m\u001b[0;34m(\u001b[0m\u001b[0;34m)\u001b[0m\u001b[0;34m\u001b[0m\u001b[0;34m\u001b[0m\u001b[0m\n",
      "\u001b[0;31mImportError\u001b[0m: cannot import name 'to_categorical' from 'keras.utils' (/usr/local/lib/python3.7/dist-packages/keras/utils/__init__.py)",
      "",
      "\u001b[0;31m---------------------------------------------------------------------------\u001b[0;32m\nNOTE: If your import is failing due to a missing package, you can\nmanually install dependencies using either !pip or !apt.\n\nTo view examples of installing some common dependencies, click the\n\"Open Examples\" button below.\n\u001b[0;31m---------------------------------------------------------------------------\u001b[0m\n"
     ]
    }
   ],
   "source": [
    "from keras.datasets import mnist\n",
    "from keras.utils import to_categorical\n",
    "\n",
    "# load the MNIST the dataset\n",
    "(x_train, y_train), (x_test, y_test) = mnist.load_data()\n",
    "\n",
    "# scale the image intensities to the 0-1 range\n",
    "x_train = (x_train / 255.0).astype(np.float32)\n",
    "x_test = (x_test / 255.0).astype(np.float32)\n",
    "\n",
    "# convert the data to channel-last\n",
    "train_set_images = np.expand_dims(x_train, axis=-1)\n",
    "test_set_images = np.expand_dims(x_test, axis=-1)\n",
    "\n",
    "# convert the labels to one-hot encoded\n",
    "train_set_labels = to_categorical(y_train, num_classes=10)\n",
    "test_set_labels = to_categorical(y_test, num_classes=10)"
   ]
  },
  {
   "cell_type": "markdown",
   "metadata": {
    "id": "c-5ls6CemTIX"
   },
   "source": [
    "Plot some images."
   ]
  },
  {
   "cell_type": "code",
   "execution_count": null,
   "metadata": {
    "colab": {
     "base_uri": "https://localhost:8080/",
     "height": 729
    },
    "id": "_0M65_8qTmOI",
    "outputId": "2080548c-3dc4-4f2c-85b2-6d2c1372139a"
   },
   "outputs": [
    {
     "data": {
      "image/png": "[encoded data removed]",
      "text/plain": [
       "<Figure size 720x720 with 100 Axes>"
      ]
     },
     "metadata": {
      "needs_background": "light"
     },
     "output_type": "display_data"
    }
   ],
   "source": [
    "def plotImages(images, dim=(10, 10), figsize=(10, 10), title=''):\n",
    "    plt.figure(figsize=figsize)\n",
    "    for i in range(images.shape[0]):\n",
    "        plt.subplot(dim[0], dim[1], i+1)\n",
    "        plt.imshow(images[i], interpolation='nearest', cmap='gray_r')\n",
    "        plt.axis('off')\n",
    "    plt.tight_layout()\n",
    "    plt.suptitle(title)\n",
    "    plt.show()\n",
    "    \n",
    "plotImages(train_set_images[np.random.randint(0, train_set_images.shape[0], size=100)].reshape(100, 28, 28))"
   ]
  },
  {
   "cell_type": "markdown",
   "metadata": {
    "id": "qJnlR4PJSeQB"
   },
   "source": [
    "In last week's exercise you have built a discriminative model that was able to classify an image into one of ten digit categories. In this exercise, we are going to do the inverse. Given a point in a latent space (which in our case will be a multi-dimensional Gaussian distribution), we are going to train the network to generate a realistic digit image for this point. The MNIST data set will be used as a set of real samples. \n",
    "\n",
    "<img src=\"https://skymind.ai/images/wiki/GANs.png\">\n",
    "\n"
   ]
  },
  {
   "cell_type": "markdown",
   "metadata": {
    "id": "blRfoIS4Uo8-"
   },
   "source": [
    "## The discriminator\n",
    "As you can see in the image above, we will need a generator and a discriminator network. Let's define these. Consider the network that you used\n",
    "for digit classification in the previous exercise and see if you can spot some differences between that network and the network below.\n",
    "\n",
    "**Question 8:** Is this a convolutional neural network? Why (not)?\n",
    "\n",
    "**Answer 8:** No this is not a convolutional network as it does not consist of convolutional layers. It is a multilayer perceptron.\n"
   ]
  },
  {
   "cell_type": "code",
   "execution_count": null,
   "metadata": {
    "id": "qg36jdcyUvPF"
   },
   "outputs": [],
   "source": [
    "def get_discriminator_MLP():\n",
    "  discriminator = keras.models.Sequential()\n",
    "  discriminator.add(Dense(1024, input_dim=784, kernel_initializer=keras.initializers.RandomNormal(stddev=0.02)))\n",
    "  discriminator.add(LeakyReLU(0.2))\n",
    "  discriminator.add(Dropout(0.3))\n",
    "  discriminator.add(Dense(512))\n",
    "  discriminator.add(LeakyReLU(0.2))\n",
    "  discriminator.add(Dropout(0.3))\n",
    "  discriminator.add(Dense(256))\n",
    "  discriminator.add(LeakyReLU(0.2))\n",
    "  discriminator.add(Dense(1, activation='sigmoid'))\n",
    "  return discriminator"
   ]
  },
  {
   "cell_type": "markdown",
   "metadata": {
    "id": "0KYxSSbBQ28g"
   },
   "source": [
    "You could argue that digits are a bit more complex than samples from a Gaussian distribution, so let's set the latent space dimensionality for noise sampling a bit higher than 1."
   ]
  },
  {
   "cell_type": "code",
   "execution_count": null,
   "metadata": {
    "id": "MmCVJxAmQ6nE"
   },
   "outputs": [],
   "source": [
    "latent_dim = 10"
   ]
  },
  {
   "cell_type": "markdown",
   "metadata": {
    "id": "5BGSHlx-VmVY"
   },
   "source": [
    "\n",
    "## The generator\n",
    "\n",
    "The generator is different than the discriminator. It should go from a low-dimensional noise vector to an MNIST image."
   ]
  },
  {
   "cell_type": "code",
   "execution_count": null,
   "metadata": {
    "id": "fEjxnxAwVukq"
   },
   "outputs": [],
   "source": [
    "def get_generator_MLP():\n",
    "  generator = keras.models.Sequential()\n",
    "  generator.add(Dense(256, input_dim=latent_dim, kernel_initializer=keras.initializers.RandomNormal(stddev=0.02)))\n",
    "  generator.add(LeakyReLU(0.2))\n",
    "  generator.add(Dense(512))\n",
    "  generator.add(LeakyReLU(0.2))\n",
    "  generator.add(Dense(1024))\n",
    "  generator.add(LeakyReLU(0.2))\n",
    "  generator.add(Dense(784, activation='tanh'))\n",
    "  return generator"
   ]
  },
  {
   "cell_type": "markdown",
   "metadata": {
    "id": "nAUU4F7OQxO0"
   },
   "source": [
    "**Question 9:** Consider the activation functions of the output layers of the generator and discriminator networks. How are they different?\n",
    "\n",
    "**Answer 9:** The discriminator has a sigmoid activation function in the output layer and the generator has a tanh activation function. These both have the same S-shape but the sigmoid function lies between 0 an 1 and the tanh function between -1 and 1.\n",
    "\n",
    "**Question 10:** Also look at the activation functions of the other layers, can you find out what they do? Look at the Keras documentation.\n",
    "\n",
    "**Answer 10:** The other activation function which is used in both the discriminator and generator network is a leakyReLU. This is an improved version of the ReLU and allows a small gradient from inputs that are less then zero. This prevents that these neurons are deactivated."
   ]
  },
  {
   "cell_type": "markdown",
   "metadata": {
    "id": "NH_4zv4gnYhg"
   },
   "source": [
    "## The model\n",
    "Now  let's combine the generator and the discriminator. We train both using a binary crossentropy objective. This is very similar to what we did before."
   ]
  },
  {
   "cell_type": "code",
   "execution_count": null,
   "metadata": {
    "id": "2dR_iHzXXHjb"
   },
   "outputs": [],
   "source": [
    "discriminator = get_discriminator_MLP()\n",
    "generator = get_generator_MLP()\n",
    "\n",
    "discriminator.compile(loss='binary_crossentropy', optimizer=keras.optimizers.Adam(lr=0.0002, beta_1=0.5))\n",
    "generator.compile(loss='binary_crossentropy', optimizer=keras.optimizers.Adam(lr=0.0002, beta_1=0.5))\n",
    "\n",
    "discriminator.trainable = False\n",
    "z = keras.layers.Input(shape=(latent_dim,))\n",
    "G_z = generator(z)\n",
    "D_G_z = discriminator(G_z)\n",
    "gan = keras.models.Model(inputs=z, outputs=D_G_z)\n",
    "gan.compile(loss='binary_crossentropy', optimizer=keras.optimizers.Adam(lr=0.0002, beta_1=0.5))"
   ]
  },
  {
   "cell_type": "markdown",
   "metadata": {
    "id": "fRMLacRF_RXo"
   },
   "source": [
    "Some helper functions."
   ]
  },
  {
   "cell_type": "code",
   "execution_count": null,
   "metadata": {
    "id": "MPXzOrqYZqmN"
   },
   "outputs": [],
   "source": [
    "def saveModels(epoch):\n",
    "    generator.save('gan_generator_epoch_{}.h5'.format(epoch))\n",
    "    discriminator.save('gan_discriminator_epoch_{}.h5'.format(epoch))\n",
    "    \n",
    "def plotGeneratedImages(epoch, examples=100, dim=(10, 10), figsize=(10, 10)):\n",
    "    noise = np.random.normal(0, 1, size=[examples, latent_dim])\n",
    "    generatedImages = generator.predict(noise)\n",
    "    generatedImages = generatedImages.reshape(examples, 28, 28)\n",
    "\n",
    "    plt.figure(figsize=figsize)\n",
    "    for i in range(generatedImages.shape[0]):\n",
    "        plt.subplot(dim[0], dim[1], i+1)\n",
    "        plt.imshow(generatedImages[i], interpolation='nearest', cmap='gray_r')\n",
    "        plt.axis('off')\n",
    "    plt.tight_layout()\n",
    "    plt.suptitle('Epoch {}'.format(epoch))\n",
    "    plt.show()"
   ]
  },
  {
   "cell_type": "markdown",
   "metadata": {
    "id": "aSJGSyUOmxCN"
   },
   "source": [
    "Run the code below to train the GAN model. Synthesized images should be shown periodically. "
   ]
  },
  {
   "cell_type": "code",
   "execution_count": null,
   "metadata": {
    "colab": {
     "base_uri": "https://localhost:8080/",
     "height": 34
    },
    "id": "eYInR4WkXj_g",
    "outputId": "ac55da38-35da-4a7c-a0b8-b677bdd5c428"
   },
   "outputs": [
    {
     "data": {
      "text/plain": [
       "<Figure size 432x288 with 0 Axes>"
      ]
     },
     "metadata": {},
     "output_type": "display_data"
    }
   ],
   "source": [
    "d_losses = []\n",
    "g_losses = []\n",
    "\n",
    "epochs = 200\n",
    "batch_size = 128\n",
    "\n",
    "X_train = (train_set_images.reshape(60000, 784).astype(np.float32) - 0.5)/0.5\n",
    "\n",
    "batch_count = int(X_train.shape[0] / batch_size)\n",
    "for e in range(epochs):\n",
    "  for _ in range(batch_count):\n",
    "\n",
    "    # Get a random set of input noise and images\n",
    "    noise = np.random.normal(0, 1, size=[batch_size, latent_dim])\n",
    "    image_batch = X_train[np.random.randint(0, X_train.shape[0], size=batch_size)]\n",
    "\n",
    "    # Generate some fake MNIST images using the generator\n",
    "    generated_images = generator.predict(noise)\n",
    "\n",
    "    # Concatenate the fake and real images\n",
    "    X = np.concatenate([image_batch, generated_images])\n",
    "\n",
    "    # Labels for generated and real data\n",
    "    y_dis = np.zeros(2*batch_size)\n",
    "    # One-sided label smoothing\n",
    "    y_dis[:batch_size] = 0.9\n",
    "\n",
    "    # Train discriminator with this batch of samples\n",
    "    discriminator.trainable = True\n",
    "    d_loss = discriminator.train_on_batch(X, y_dis)\n",
    "\n",
    "    # Train generator with a new batch of generated samples\n",
    "    noise = np.random.normal(0, 1, size=[batch_size, latent_dim])\n",
    "\n",
    "    # From the generator's perspective, the discriminator should predict\n",
    "    # ones for all samples\n",
    "    y_gen = np.ones(batch_size)\n",
    "\n",
    "    # Freeze the discriminator part\n",
    "    discriminator.trainable = False\n",
    "\n",
    "    # Train the GAN to predict ones\n",
    "    g_loss = gan.train_on_batch(noise, y_gen)\n",
    "\n",
    "  # Store loss of most recent batch from this epoch\n",
    "  d_losses.append(d_loss)\n",
    "  g_losses.append(g_loss)\n",
    "\n",
    "  if e % 5 == 0:\n",
    "    noise = np.random.normal(0, 1, size=[100, latent_dim])\n",
    "    plotGeneratedImages(e)\n",
    "    display.display(plt.gcf())\n",
    "    display.clear_output(wait=True)\n",
    "    time.sleep(0.001)\n",
    "    saveModels(e)\n",
    "  elif e == 199:\n",
    "    display.display(plt.gcf())"
   ]
  },
  {
   "cell_type": "markdown",
   "metadata": {
    "id": "RkAQZ1-uA1SQ"
   },
   "source": [
    "**Question 11:** Inspect the loss curves for this model and explain what happens.\n",
    "\n",
    "**Answer 11:** The loss of the discriminator increases which means that it becomes better at distinguishing real and fake samples generated by the generator. The loss of the generator decreases which means that it becomes better at generating images which are identified as real by the discriminator."
   ]
  },
  {
   "cell_type": "code",
   "execution_count": null,
   "metadata": {
    "colab": {
     "base_uri": "https://localhost:8080/",
     "height": 530
    },
    "id": "x01jKoQvjEl3",
    "outputId": "bd566786-8f91-421c-f03e-11da6cee8807"
   },
   "outputs": [
    {
     "name": "stderr",
     "output_type": "stream",
     "text": [
      "No handles with labels found to put in legend.\n"
     ]
    },
    {
     "data": {
      "image/png": "[encoded data removed]",
      "text/plain": [
       "<Figure size 720x576 with 2 Axes>"
      ]
     },
     "metadata": {
      "needs_background": "light"
     },
     "output_type": "display_data"
    }
   ],
   "source": [
    "plt.figure(figsize=(10, 8))\n",
    "plt.subplot(1, 2, 1)\n",
    "plt.plot(d_losses)\n",
    "plt.title('Discriminator loss')\n",
    "plt.xlabel('Epoch')\n",
    "plt.ylabel('Loss')\n",
    "plt.subplot(1, 2, 2)\n",
    "plt.plot(g_losses)\n",
    "plt.title('Generator loss')\n",
    "plt.xlabel('Epoch')\n",
    "plt.ylabel('Loss')\n",
    "plt.legend()\n",
    "plt.show()"
   ]
  },
  {
   "cell_type": "markdown",
   "metadata": {
    "id": "p7MFDUeHSgQ-"
   },
   "source": [
    "## A convolutional model\n",
    "Thus far the discriminator and generator were both multilayer perceptrons. Now we're going to add in some convolutional layers to turn them into a deep convolutional GAN (<a href=\"http://arxiv.org/abs/1511.06434\">DCGAN</a>)-like architecture. This means that we have to redefine the generator network and a discriminator network. \n",
    "\n",
    "The discriminator network is (almost) the same network that we used in last week's exercise."
   ]
  },
  {
   "cell_type": "code",
   "execution_count": null,
   "metadata": {
    "id": "bccrTGP0SiVJ"
   },
   "outputs": [],
   "source": [
    "from keras.layers.convolutional import Conv2D, UpSampling2D\n",
    "\n",
    "def get_discriminator_CNN():\n",
    "  discriminator = keras.models.Sequential()\n",
    "  discriminator.add(Conv2D(64, kernel_size=(5, 5), strides=(2, 2), padding='same', input_shape=(1, 28, 28), kernel_initializer=keras.initializers.RandomNormal(stddev=0.02)))\n",
    "  discriminator.add(LeakyReLU(0.2))\n",
    "  discriminator.add(Dropout(0.3))\n",
    "  discriminator.add(Conv2D(128, kernel_size=(5, 5), strides=(2, 2), padding='same'))\n",
    "  discriminator.add(LeakyReLU(0.2))\n",
    "  discriminator.add(Dropout(0.3))\n",
    "  discriminator.add(Flatten())\n",
    "  discriminator.add(Dense(1, activation='sigmoid'))\n",
    "  return discriminator\n",
    "\n",
    "def get_generator_CNN():\n",
    "  generator = keras.models.Sequential()\n",
    "  generator.add(Dense(128*7*7, input_dim=latent_dim, kernel_initializer=keras.initializers.RandomNormal(stddev=0.02)))\n",
    "  generator.add(LeakyReLU(0.2))\n",
    "  generator.add(Reshape((128, 7, 7)))\n",
    "  generator.add(UpSampling2D(size=(2, 2)))\n",
    "  generator.add(Conv2D(64, kernel_size=(5, 5), padding='same'))\n",
    "  generator.add(LeakyReLU(0.2))\n",
    "  generator.add(UpSampling2D(size=(2, 2)))\n",
    "  generator.add(Conv2D(1, kernel_size=(5, 5), padding='same', activation='tanh'))\n",
    "  return generator"
   ]
  },
  {
   "cell_type": "markdown",
   "metadata": {
    "id": "JSKkoosKAwrh"
   },
   "source": [
    "Let's build our model like before."
   ]
  },
  {
   "cell_type": "code",
   "execution_count": null,
   "metadata": {
    "id": "mu8rmKcoGAPb"
   },
   "outputs": [],
   "source": [
    "discriminator = get_discriminator_CNN()\n",
    "generator = get_generator_CNN()\n",
    "\n",
    "discriminator.compile(loss='binary_crossentropy', optimizer=keras.optimizers.Adam(lr=0.0002, beta_1=0.5))\n",
    "generator.compile(loss='binary_crossentropy', optimizer=keras.optimizers.Adam(lr=0.0002, beta_1=0.5))\n",
    "\n",
    "discriminator.trainable = False\n",
    "z = keras.layers.Input(shape=(latent_dim,))\n",
    "x = generator(z)\n",
    "D_G_z = discriminator(x)\n",
    "gan = keras.models.Model(inputs=z, outputs=D_G_z)\n",
    "gan.compile(loss='binary_crossentropy', optimizer=keras.optimizers.Adam(lr=0.0002, beta_1=0.5))"
   ]
  },
  {
   "cell_type": "markdown",
   "metadata": {
    "id": "Ojox3HxJnVDF"
   },
   "source": [
    "Train the model using the code below. Inspect the samples that come out. \n",
    "\n",
    "**Question 12:** What are some differences between these samples and the ones generated by the multilayer perceptron GAN? Can you explain these differences?\n",
    "\n",
    "**Answer 12:** The samples generated from the convolutional GAN have no filled circles with the 8 and 6 as in the multilayer GAN."
   ]
  },
  {
   "cell_type": "code",
   "execution_count": null,
   "metadata": {
    "colab": {
     "base_uri": "https://localhost:8080/",
     "height": 232
    },
    "id": "k79EFqsgWz0l",
    "outputId": "11bb7bfa-2065-43d9-db9b-8a8aff81109a"
   },
   "outputs": [
    {
     "ename": "NameError",
     "evalue": "ignored",
     "output_type": "error",
     "traceback": [
      "\u001b[0;31m---------------------------------------------------------------------------\u001b[0m",
      "\u001b[0;31mNameError\u001b[0m                                 Traceback (most recent call last)",
      "\u001b[0;32m<ipython-input-1-27d4d1b3ed1d>\u001b[0m in \u001b[0;36m<module>\u001b[0;34m()\u001b[0m\n\u001b[1;32m      5\u001b[0m \u001b[0mbatch_size\u001b[0m \u001b[0;34m=\u001b[0m \u001b[0;36m128\u001b[0m\u001b[0;34m\u001b[0m\u001b[0;34m\u001b[0m\u001b[0m\n\u001b[1;32m      6\u001b[0m \u001b[0;34m\u001b[0m\u001b[0m\n\u001b[0;32m----> 7\u001b[0;31m \u001b[0mX_train\u001b[0m \u001b[0;34m=\u001b[0m \u001b[0;34m(\u001b[0m\u001b[0mtrain_set_images\u001b[0m\u001b[0;34m.\u001b[0m\u001b[0mreshape\u001b[0m\u001b[0;34m(\u001b[0m\u001b[0;36m60000\u001b[0m\u001b[0;34m,\u001b[0m \u001b[0;36m1\u001b[0m\u001b[0;34m,\u001b[0m \u001b[0;36m28\u001b[0m\u001b[0;34m,\u001b[0m \u001b[0;36m28\u001b[0m\u001b[0;34m)\u001b[0m\u001b[0;34m.\u001b[0m\u001b[0mastype\u001b[0m\u001b[0;34m(\u001b[0m\u001b[0mnp\u001b[0m\u001b[0;34m.\u001b[0m\u001b[0mfloat32\u001b[0m\u001b[0;34m)\u001b[0m \u001b[0;34m-\u001b[0m \u001b[0;36m0.5\u001b[0m\u001b[0;34m)\u001b[0m\u001b[0;34m/\u001b[0m\u001b[0;36m0.5\u001b[0m\u001b[0;34m\u001b[0m\u001b[0;34m\u001b[0m\u001b[0m\n\u001b[0m\u001b[1;32m      8\u001b[0m \u001b[0;34m\u001b[0m\u001b[0m\n\u001b[1;32m      9\u001b[0m \u001b[0mbatch_count\u001b[0m \u001b[0;34m=\u001b[0m \u001b[0mint\u001b[0m\u001b[0;34m(\u001b[0m\u001b[0mX_train\u001b[0m\u001b[0;34m.\u001b[0m\u001b[0mshape\u001b[0m\u001b[0;34m[\u001b[0m\u001b[0;36m0\u001b[0m\u001b[0;34m]\u001b[0m \u001b[0;34m/\u001b[0m \u001b[0mbatch_size\u001b[0m\u001b[0;34m)\u001b[0m\u001b[0;34m\u001b[0m\u001b[0;34m\u001b[0m\u001b[0m\n",
      "\u001b[0;31mNameError\u001b[0m: name 'train_set_images' is not defined"
     ]
    }
   ],
   "source": [
    "d_losses = []\n",
    "g_losses = []\n",
    "\n",
    "epochs = 200\n",
    "batch_size = 128\n",
    "\n",
    "X_train = (train_set_images.reshape(60000, 1, 28, 28).astype(np.float32) - 0.5)/0.5\n",
    "\n",
    "batch_count = int(X_train.shape[0] / batch_size)\n",
    "for e in range(epochs):\n",
    "  for _ in range(batch_count):\n",
    "    # Get a random set of input noise and images\n",
    "    noise = np.random.normal(0, 1, size=[batch_size, latent_dim])\n",
    "    image_batch = X_train[np.random.randint(0, X_train.shape[0], size=batch_size)]\n",
    "\n",
    "    # Generate some fake MNIST images using the generator\n",
    "    generated_images = generator.predict(noise)\n",
    "\n",
    "    # Concatenate the fake and real images\n",
    "    X = np.concatenate([image_batch, generated_images])\n",
    "\n",
    "    # Labels for generated and real data\n",
    "    y_dis = np.zeros(2*batch_size)\n",
    "    # Set reference to 1 for real samples\n",
    "    y_dis[:batch_size] = 1\n",
    "\n",
    "    # Train discriminator with this batch of samples\n",
    "    discriminator.trainable = True\n",
    "    d_loss = discriminator.train_on_batch(X, y_dis)\n",
    "\n",
    "    # Train generator with a new batch of generated samples\n",
    "    noise = np.random.normal(0, 1, size=[batch_size, latent_dim])\n",
    "\n",
    "    # From the generator's perspective, the discriminator should predict\n",
    "    # ones for all samples\n",
    "    y_gen = np.ones(batch_size)\n",
    "\n",
    "    # Freeze the discriminator part\n",
    "    discriminator.trainable = False\n",
    "\n",
    "    # Train the GAN to predict ones\n",
    "    g_loss = gan.train_on_batch(noise, y_gen)\n",
    "\n",
    "    # Store loss of most recent batch from this epoch\n",
    "  d_losses.append(d_loss)\n",
    "  g_losses.append(g_loss)\n",
    "\n",
    "  if e % 5 == 0:\n",
    "    noise = np.random.normal(0, 1, size=[100, latent_dim])\n",
    "    generatedImages = generator.predict(noise)\n",
    "    generatedImages = generatedImages.reshape(100, 28, 28)          \n",
    "    plotImages(generatedImages, title='Epoch {}'.format(e))\n",
    "    display.display(plt.gcf())\n",
    "    display.clear_output(wait=True)\n",
    "    time.sleep(0.001)    \n",
    "    saveModels(e)\n",
    "\n",
    "  elif e == 199:\n",
    "    display.display(plt.gcf())"
   ]
  },
  {
   "cell_type": "markdown",
   "metadata": {
    "id": "jmtZkf5AnW6y"
   },
   "source": [
    "## Interpolation in the latent space\n",
    "We're going to explore the latent space a bit more. We pick two points in the latent space and make a linear interpolation between these two. Then we generate images from each of the interpolated latent points. "
   ]
  },
  {
   "cell_type": "code",
   "execution_count": null,
   "metadata": {
    "colab": {
     "base_uri": "https://localhost:8080/",
     "height": 215
    },
    "id": "_NlTG4FBkNpC",
    "outputId": "2cf6cf3d-2e86-461f-c66a-cbf6431674a4"
   },
   "outputs": [
    {
     "ename": "ValueError",
     "evalue": "ignored",
     "output_type": "error",
     "traceback": [
      "\u001b[0;31m---------------------------------------------------------------------------\u001b[0m",
      "\u001b[0;31mValueError\u001b[0m                                Traceback (most recent call last)",
      "\u001b[0;32m<ipython-input-8-67e04ca59ee7>\u001b[0m in \u001b[0;36m<module>\u001b[0;34m()\u001b[0m\n\u001b[1;32m      6\u001b[0m   \u001b[0mnoise\u001b[0m\u001b[0;34m[\u001b[0m\u001b[0mni\u001b[0m\u001b[0;34m,\u001b[0m \u001b[0;34m:\u001b[0m\u001b[0;34m]\u001b[0m \u001b[0;34m=\u001b[0m \u001b[0mfloat\u001b[0m\u001b[0;34m(\u001b[0m\u001b[0mni\u001b[0m\u001b[0;34m)\u001b[0m\u001b[0;34m/\u001b[0m\u001b[0;36m10.\u001b[0m \u001b[0;34m*\u001b[0m \u001b[0mnoise_a\u001b[0m \u001b[0;34m+\u001b[0m \u001b[0;34m(\u001b[0m\u001b[0;36m1\u001b[0m \u001b[0;34m-\u001b[0m \u001b[0mfloat\u001b[0m\u001b[0;34m(\u001b[0m\u001b[0mni\u001b[0m\u001b[0;34m)\u001b[0m\u001b[0;34m/\u001b[0m\u001b[0;36m10.\u001b[0m\u001b[0;34m)\u001b[0m \u001b[0;34m*\u001b[0m \u001b[0mnoise_b\u001b[0m\u001b[0;34m\u001b[0m\u001b[0;34m\u001b[0m\u001b[0m\n\u001b[1;32m      7\u001b[0m \u001b[0mgeneratedImages\u001b[0m \u001b[0;34m=\u001b[0m \u001b[0mgenerator\u001b[0m\u001b[0;34m.\u001b[0m\u001b[0mpredict\u001b[0m\u001b[0;34m(\u001b[0m\u001b[0mnoise\u001b[0m\u001b[0;34m)\u001b[0m\u001b[0;34m\u001b[0m\u001b[0;34m\u001b[0m\u001b[0m\n\u001b[0;32m----> 8\u001b[0;31m \u001b[0mgeneratedImages\u001b[0m \u001b[0;34m=\u001b[0m \u001b[0mgeneratedImages\u001b[0m\u001b[0;34m.\u001b[0m\u001b[0mreshape\u001b[0m\u001b[0;34m(\u001b[0m\u001b[0;36m10\u001b[0m\u001b[0;34m,\u001b[0m \u001b[0;36m28\u001b[0m\u001b[0;34m,\u001b[0m \u001b[0;36m28\u001b[0m\u001b[0;34m)\u001b[0m\u001b[0;34m\u001b[0m\u001b[0;34m\u001b[0m\u001b[0m\n\u001b[0m\u001b[1;32m      9\u001b[0m \u001b[0mplotImages\u001b[0m\u001b[0;34m(\u001b[0m\u001b[0mgeneratedImages\u001b[0m\u001b[0;34m,\u001b[0m \u001b[0mdim\u001b[0m\u001b[0;34m=\u001b[0m\u001b[0;34m(\u001b[0m\u001b[0;36m1\u001b[0m\u001b[0;34m,\u001b[0m \u001b[0;36m10\u001b[0m\u001b[0;34m)\u001b[0m\u001b[0;34m,\u001b[0m \u001b[0mfigsize\u001b[0m\u001b[0;34m=\u001b[0m\u001b[0;34m(\u001b[0m\u001b[0;36m10\u001b[0m\u001b[0;34m,\u001b[0m \u001b[0;36m10\u001b[0m\u001b[0;34m)\u001b[0m\u001b[0;34m)\u001b[0m\u001b[0;34m\u001b[0m\u001b[0;34m\u001b[0m\u001b[0m\n",
      "\u001b[0;31mValueError\u001b[0m: cannot reshape array of size 10 into shape (10,28,28)"
     ]
    }
   ],
   "source": [
    "noise_a = np.random.normal(0, 1, size=[1, latent_dim])\n",
    "noise_b = np.random.normal(0, 1, size=[1, latent_dim])\n",
    "\n",
    "noise = np.zeros((10, latent_dim), dtype='float32')\n",
    "for ni in range(10):\n",
    "  noise[ni, :] = float(ni)/10. * noise_a + (1 - float(ni)/10.) * noise_b\n",
    "generatedImages = generator.predict(noise)\n",
    "generatedImages = generatedImages.reshape(10, 28, 28)          \n",
    "plotImages(generatedImages, dim=(1, 10), figsize=(10, 10))"
   ]
  },
  {
   "cell_type": "markdown",
   "metadata": {
    "id": "JxkznblanlBO"
   },
   "source": [
    "**Question 13** Explain what you see in this plot.\n",
    "\n",
    "**Answer 13** This plot shows ten times the digit 9. From the first digit to the nineth digit, the diameter of the round  increases and the tail becomes larger and more rounded.\n",
    "\n",
    "**Question 14** What happens when you extrapolate out of the latent space distribution? Consider how the noise vectors are drawn.\n",
    "\n",
    "**Answer 14** "
   ]
  },
  {
   "cell_type": "markdown",
   "metadata": {
    "id": "dEjdfhRZsUGR"
   },
   "source": [
    "# Histopathology image synthesis"
   ]
  },
  {
   "cell_type": "markdown",
   "metadata": {
    "id": "MhUnPg2sYitQ"
   },
   "source": [
    "Now we're going to synthesize some actual images. We're going to use the PatchCamelyon data set ([more info here](https://github.com/basveeling/pcam)) which consists of small images that can be used for classification benchmarks. Today, we're not going to classify images, but we're going to synthesize them. You can download a data set of smaller (28 x 28 pixels) versions of these images from \n",
    "[this link](https://drive.google.com/file/d/11tkBWleY6PqFAGQHW0zYOwhvuz0kq-ai/view?usp=sharing). Upload the data set in the dialog below."
   ]
  },
  {
   "cell_type": "code",
   "execution_count": 1,
   "metadata": {
    "colab": {
     "base_uri": "https://localhost:8080/",
     "height": 167
    },
    "id": "fMGM8sLhsbWh",
    "outputId": "4a25c4d6-282b-4892-b277-57f5567c4399"
   },
   "outputs": [
    {
     "ename": "NameError",
     "evalue": "ignored",
     "output_type": "error",
     "traceback": [
      "\u001b[0;31m---------------------------------------------------------------------------\u001b[0m",
      "\u001b[0;31mNameError\u001b[0m                                 Traceback (most recent call last)",
      "\u001b[0;32m<ipython-input-1-ed2fd71b4a2f>\u001b[0m in \u001b[0;36m<module>\u001b[0;34m()\u001b[0m\n\u001b[0;32m----> 1\u001b[0;31m \u001b[0muploaded\u001b[0m \u001b[0;34m=\u001b[0m \u001b[0mfiles\u001b[0m\u001b[0;34m.\u001b[0m\u001b[0mupload\u001b[0m\u001b[0;34m(\u001b[0m\u001b[0;34m)\u001b[0m\u001b[0;34m\u001b[0m\u001b[0;34m\u001b[0m\u001b[0m\n\u001b[0m",
      "\u001b[0;31mNameError\u001b[0m: name 'files' is not defined"
     ]
    }
   ],
   "source": [
    "uploaded = files.upload()"
   ]
  },
  {
   "cell_type": "markdown",
   "metadata": {
    "id": "lE8OlCi-ZKFf"
   },
   "source": [
    "Now load the data set."
   ]
  },
  {
   "cell_type": "code",
   "execution_count": 2,
   "metadata": {
    "id": "NfJIE29rFYUA"
   },
   "outputs": [],
   "source": [
    "import gzip\n",
    "def loadPatchCamelyon(path):    \n",
    "    f = gzip.open(path, 'rb')\n",
    "    train_set = pickle.load(f, encoding='latin1')\n",
    "    f.close()\n",
    "    return train_set"
   ]
  },
  {
   "cell_type": "code",
   "execution_count": 3,
   "metadata": {
    "colab": {
     "base_uri": "https://localhost:8080/",
     "height": 385
    },
    "id": "WP1Eho1U1oMX",
    "outputId": "1da5038d-30a6-4bc6-af47-e3fcdb0504d3"
   },
   "outputs": [
    {
     "ename": "FileNotFoundError",
     "evalue": "ignored",
     "output_type": "error",
     "traceback": [
      "\u001b[0;31m---------------------------------------------------------------------------\u001b[0m",
      "\u001b[0;31mFileNotFoundError\u001b[0m                         Traceback (most recent call last)",
      "\u001b[0;32m<ipython-input-3-729677e907ae>\u001b[0m in \u001b[0;36m<module>\u001b[0;34m()\u001b[0m\n\u001b[1;32m      1\u001b[0m \u001b[0;32mimport\u001b[0m \u001b[0mgzip\u001b[0m\u001b[0;34m\u001b[0m\u001b[0;34m\u001b[0m\u001b[0m\n\u001b[0;32m----> 2\u001b[0;31m \u001b[0mtrain_set_images\u001b[0m \u001b[0;34m=\u001b[0m \u001b[0mloadPatchCamelyon\u001b[0m\u001b[0;34m(\u001b[0m\u001b[0;34mr'C:\\Users\\lieke\\Mappen\\valid_28.pkl.gz'\u001b[0m\u001b[0;34m)\u001b[0m\u001b[0;34m\u001b[0m\u001b[0;34m\u001b[0m\u001b[0m\n\u001b[0m\u001b[1;32m      3\u001b[0m \u001b[0;34m\u001b[0m\u001b[0m\n\u001b[1;32m      4\u001b[0m \u001b[0;32mdef\u001b[0m \u001b[0mplotImagesPatchCamelyon\u001b[0m\u001b[0;34m(\u001b[0m\u001b[0mimages\u001b[0m\u001b[0;34m,\u001b[0m \u001b[0mdim\u001b[0m\u001b[0;34m=\u001b[0m\u001b[0;34m(\u001b[0m\u001b[0;36m10\u001b[0m\u001b[0;34m,\u001b[0m \u001b[0;36m10\u001b[0m\u001b[0;34m)\u001b[0m\u001b[0;34m,\u001b[0m \u001b[0mfigsize\u001b[0m\u001b[0;34m=\u001b[0m\u001b[0;34m(\u001b[0m\u001b[0;36m10\u001b[0m\u001b[0;34m,\u001b[0m \u001b[0;36m10\u001b[0m\u001b[0;34m)\u001b[0m\u001b[0;34m,\u001b[0m \u001b[0mtitle\u001b[0m\u001b[0;34m=\u001b[0m\u001b[0;34m''\u001b[0m\u001b[0;34m)\u001b[0m\u001b[0;34m:\u001b[0m\u001b[0;34m\u001b[0m\u001b[0;34m\u001b[0m\u001b[0m\n\u001b[1;32m      5\u001b[0m     \u001b[0mplt\u001b[0m\u001b[0;34m.\u001b[0m\u001b[0mfigure\u001b[0m\u001b[0;34m(\u001b[0m\u001b[0mfigsize\u001b[0m\u001b[0;34m=\u001b[0m\u001b[0mfigsize\u001b[0m\u001b[0;34m)\u001b[0m\u001b[0;34m\u001b[0m\u001b[0;34m\u001b[0m\u001b[0m\n",
      "\u001b[0;32m<ipython-input-2-152b5274b370>\u001b[0m in \u001b[0;36mloadPatchCamelyon\u001b[0;34m(path)\u001b[0m\n\u001b[1;32m      1\u001b[0m \u001b[0;32mimport\u001b[0m \u001b[0mgzip\u001b[0m\u001b[0;34m\u001b[0m\u001b[0;34m\u001b[0m\u001b[0m\n\u001b[1;32m      2\u001b[0m \u001b[0;32mdef\u001b[0m \u001b[0mloadPatchCamelyon\u001b[0m\u001b[0;34m(\u001b[0m\u001b[0mpath\u001b[0m\u001b[0;34m)\u001b[0m\u001b[0;34m:\u001b[0m\u001b[0;34m\u001b[0m\u001b[0;34m\u001b[0m\u001b[0m\n\u001b[0;32m----> 3\u001b[0;31m     \u001b[0mf\u001b[0m \u001b[0;34m=\u001b[0m \u001b[0mgzip\u001b[0m\u001b[0;34m.\u001b[0m\u001b[0mopen\u001b[0m\u001b[0;34m(\u001b[0m\u001b[0mpath\u001b[0m\u001b[0;34m,\u001b[0m \u001b[0;34m'rb'\u001b[0m\u001b[0;34m)\u001b[0m\u001b[0;34m\u001b[0m\u001b[0;34m\u001b[0m\u001b[0m\n\u001b[0m\u001b[1;32m      4\u001b[0m     \u001b[0mtrain_set\u001b[0m \u001b[0;34m=\u001b[0m \u001b[0mpickle\u001b[0m\u001b[0;34m.\u001b[0m\u001b[0mload\u001b[0m\u001b[0;34m(\u001b[0m\u001b[0mf\u001b[0m\u001b[0;34m,\u001b[0m \u001b[0mencoding\u001b[0m\u001b[0;34m=\u001b[0m\u001b[0;34m'latin1'\u001b[0m\u001b[0;34m)\u001b[0m\u001b[0;34m\u001b[0m\u001b[0;34m\u001b[0m\u001b[0m\n\u001b[1;32m      5\u001b[0m     \u001b[0mf\u001b[0m\u001b[0;34m.\u001b[0m\u001b[0mclose\u001b[0m\u001b[0;34m(\u001b[0m\u001b[0;34m)\u001b[0m\u001b[0;34m\u001b[0m\u001b[0;34m\u001b[0m\u001b[0m\n",
      "\u001b[0;32m/usr/lib/python3.7/gzip.py\u001b[0m in \u001b[0;36mopen\u001b[0;34m(filename, mode, compresslevel, encoding, errors, newline)\u001b[0m\n\u001b[1;32m     56\u001b[0m     \u001b[0mgz_mode\u001b[0m \u001b[0;34m=\u001b[0m \u001b[0mmode\u001b[0m\u001b[0;34m.\u001b[0m\u001b[0mreplace\u001b[0m\u001b[0;34m(\u001b[0m\u001b[0;34m\"t\"\u001b[0m\u001b[0;34m,\u001b[0m \u001b[0;34m\"\"\u001b[0m\u001b[0;34m)\u001b[0m\u001b[0;34m\u001b[0m\u001b[0;34m\u001b[0m\u001b[0m\n\u001b[1;32m     57\u001b[0m     \u001b[0;32mif\u001b[0m \u001b[0misinstance\u001b[0m\u001b[0;34m(\u001b[0m\u001b[0mfilename\u001b[0m\u001b[0;34m,\u001b[0m \u001b[0;34m(\u001b[0m\u001b[0mstr\u001b[0m\u001b[0;34m,\u001b[0m \u001b[0mbytes\u001b[0m\u001b[0;34m,\u001b[0m \u001b[0mos\u001b[0m\u001b[0;34m.\u001b[0m\u001b[0mPathLike\u001b[0m\u001b[0;34m)\u001b[0m\u001b[0;34m)\u001b[0m\u001b[0;34m:\u001b[0m\u001b[0;34m\u001b[0m\u001b[0;34m\u001b[0m\u001b[0m\n\u001b[0;32m---> 58\u001b[0;31m         \u001b[0mbinary_file\u001b[0m \u001b[0;34m=\u001b[0m \u001b[0mGzipFile\u001b[0m\u001b[0;34m(\u001b[0m\u001b[0mfilename\u001b[0m\u001b[0;34m,\u001b[0m \u001b[0mgz_mode\u001b[0m\u001b[0;34m,\u001b[0m \u001b[0mcompresslevel\u001b[0m\u001b[0;34m)\u001b[0m\u001b[0;34m\u001b[0m\u001b[0;34m\u001b[0m\u001b[0m\n\u001b[0m\u001b[1;32m     59\u001b[0m     \u001b[0;32melif\u001b[0m \u001b[0mhasattr\u001b[0m\u001b[0;34m(\u001b[0m\u001b[0mfilename\u001b[0m\u001b[0;34m,\u001b[0m \u001b[0;34m\"read\"\u001b[0m\u001b[0;34m)\u001b[0m \u001b[0;32mor\u001b[0m \u001b[0mhasattr\u001b[0m\u001b[0;34m(\u001b[0m\u001b[0mfilename\u001b[0m\u001b[0;34m,\u001b[0m \u001b[0;34m\"write\"\u001b[0m\u001b[0;34m)\u001b[0m\u001b[0;34m:\u001b[0m\u001b[0;34m\u001b[0m\u001b[0;34m\u001b[0m\u001b[0m\n\u001b[1;32m     60\u001b[0m         \u001b[0mbinary_file\u001b[0m \u001b[0;34m=\u001b[0m \u001b[0mGzipFile\u001b[0m\u001b[0;34m(\u001b[0m\u001b[0;32mNone\u001b[0m\u001b[0;34m,\u001b[0m \u001b[0mgz_mode\u001b[0m\u001b[0;34m,\u001b[0m \u001b[0mcompresslevel\u001b[0m\u001b[0;34m,\u001b[0m \u001b[0mfilename\u001b[0m\u001b[0;34m)\u001b[0m\u001b[0;34m\u001b[0m\u001b[0;34m\u001b[0m\u001b[0m\n",
      "\u001b[0;32m/usr/lib/python3.7/gzip.py\u001b[0m in \u001b[0;36m__init__\u001b[0;34m(self, filename, mode, compresslevel, fileobj, mtime)\u001b[0m\n\u001b[1;32m    166\u001b[0m             \u001b[0mmode\u001b[0m \u001b[0;34m+=\u001b[0m \u001b[0;34m'b'\u001b[0m\u001b[0;34m\u001b[0m\u001b[0;34m\u001b[0m\u001b[0m\n\u001b[1;32m    167\u001b[0m         \u001b[0;32mif\u001b[0m \u001b[0mfileobj\u001b[0m \u001b[0;32mis\u001b[0m \u001b[0;32mNone\u001b[0m\u001b[0;34m:\u001b[0m\u001b[0;34m\u001b[0m\u001b[0;34m\u001b[0m\u001b[0m\n\u001b[0;32m--> 168\u001b[0;31m             \u001b[0mfileobj\u001b[0m \u001b[0;34m=\u001b[0m \u001b[0mself\u001b[0m\u001b[0;34m.\u001b[0m\u001b[0mmyfileobj\u001b[0m \u001b[0;34m=\u001b[0m \u001b[0mbuiltins\u001b[0m\u001b[0;34m.\u001b[0m\u001b[0mopen\u001b[0m\u001b[0;34m(\u001b[0m\u001b[0mfilename\u001b[0m\u001b[0;34m,\u001b[0m \u001b[0mmode\u001b[0m \u001b[0;32mor\u001b[0m \u001b[0;34m'rb'\u001b[0m\u001b[0;34m)\u001b[0m\u001b[0;34m\u001b[0m\u001b[0;34m\u001b[0m\u001b[0m\n\u001b[0m\u001b[1;32m    169\u001b[0m         \u001b[0;32mif\u001b[0m \u001b[0mfilename\u001b[0m \u001b[0;32mis\u001b[0m \u001b[0;32mNone\u001b[0m\u001b[0;34m:\u001b[0m\u001b[0;34m\u001b[0m\u001b[0;34m\u001b[0m\u001b[0m\n\u001b[1;32m    170\u001b[0m             \u001b[0mfilename\u001b[0m \u001b[0;34m=\u001b[0m \u001b[0mgetattr\u001b[0m\u001b[0;34m(\u001b[0m\u001b[0mfileobj\u001b[0m\u001b[0;34m,\u001b[0m \u001b[0;34m'name'\u001b[0m\u001b[0;34m,\u001b[0m \u001b[0;34m''\u001b[0m\u001b[0;34m)\u001b[0m\u001b[0;34m\u001b[0m\u001b[0;34m\u001b[0m\u001b[0m\n",
      "\u001b[0;31mFileNotFoundError\u001b[0m: [Errno 2] No such file or directory: 'C:\\\\Users\\\\lieke\\\\Mappen\\\\valid_28.pkl.gz'"
     ]
    }
   ],
   "source": [
    "import gzip\n",
    "train_set_images = loadPatchCamelyon(r'C:\\Users\\lieke\\Mappen\\valid_28.pkl.gz')\n",
    "\n",
    "def plotImagesPatchCamelyon(images, dim=(10, 10), figsize=(10, 10), title=''):\n",
    "    plt.figure(figsize=figsize)\n",
    "    for i in range(images.shape[0]):\n",
    "        plt.subplot(dim[0], dim[1], i+1)\n",
    "        plt.imshow(images[i], interpolation='nearest')\n",
    "        plt.axis('off')\n",
    "    plt.tight_layout()\n",
    "    plt.suptitle(title)\n",
    "    plt.show()\n",
    "    \n",
    "    \n",
    "plotImagesPatchCamelyon(train_set_images[np.random.randint(0, train_set_images.shape[0], size=100)].reshape(100, 28, 28, 3)/255.0)"
   ]
  },
  {
   "cell_type": "markdown",
   "metadata": {
    "id": "iQzcCZ_hZNbH"
   },
   "source": [
    "What do you immediately notice? Indeed, these images are in color! So the generator will have to generate three output channels instead of just one. \n",
    "\n",
    "In this second-to-last part of the practical you're going to repurpose the code that you have used so far to synthesize histopathology images like the ones above. You can play around a bit with this, see what happens when you interpolate between samples, etc. Remember that there is a final 'exercise' below.\n",
    "\n",
    "**Good luck!**"
   ]
  },
  {
   "cell_type": "code",
   "execution_count": null,
   "metadata": {
    "id": "UCm1R35fSVlw"
   },
   "outputs": [],
   "source": [
    "## YOUR CODE GOES HERE"
   ]
  },
  {
   "cell_type": "markdown",
   "metadata": {
    "id": "S8CchPs2kIVT"
   },
   "source": [
    "# Conditional image synthesis"
   ]
  },
  {
   "cell_type": "markdown",
   "metadata": {
    "id": "RBALpqMLFPt2"
   },
   "source": [
    "## The BigGAN model\n",
    "The images we have synthesized so far are all quite small. Synthesis of larger images (e.g. 512 x 512 pixels) typically requires a lot of compute power and patience. Unfortunately, you don't have 100s of GPU at your disposal (I guess) to train a model like BigGAN, the state of the art in conditional image synthesis. A wild guess is that it would cost you around [USD60000](https://twitter.com/quasimondo/status/1065610256917692416) to train this model.\n",
    "\n",
    "Luckily, the authors of BigGAN have put a version of their pretrained model online and you can use it to synthesize images. Go to [this Colaboratory file](https://colab.research.google.com/github/tensorflow/hub/blob/master/examples/colab/biggan_generation_with_tf_hub.ipynb) and answer the following questions.\n",
    "\n",
    "**Question 15** What happens when you change the noise seed? Also try out different categories.\n",
    "\n",
    "**Answer 15** Increasing the noise-seed leads to ???\n",
    "\n",
    "**Question 16** What happens to your samples when you change the truncation value? More precisely, what happens to the diversity and the quality of your samples? Take a look at the [paper on arXiv](https://arxiv.org/abs/1809.11096) Sec. 3.1 to get an idea what this value does.\n",
    "\n",
    "**Answer 16** The truncation level controls the rtade-off between sample variety and fidelity. A low truncation levels generates the same samples and a high truncation level generates not all realistic samples. So, with a higher truncation level the diversity increases but the quality decreases.\n",
    "\n",
    "**Question 17** Interpolate between image categories, inspect what these look like. \n",
    "\n",
    "**Answer 17** From the left to the right category A (dog) smoothly transitions into category B (hen). First the size/posture changes and then the hair.\n",
    "\n",
    "\n"
   ]
  },
  {
   "cell_type": "markdown",
   "metadata": {
    "id": "dqKCNciykQ-2"
   },
   "source": [
    "## Conditional MNIST synthesis\n",
    "For all MNIST samples we already have labels (0, 1, ..., n). Try to change the MNIST synthesis code such that you can ask the generator to generate specific labels. I.e., try to train a conditional GAN. You can look for some inspiration in [this paper](https://arxiv.org/pdf/1411.1784.pdf), in particular Sec. 4.1. Remember that you already got the MNIST labels when loading the data set."
   ]
  },
  {
   "cell_type": "markdown",
   "metadata": {
    "id": "VBQvHB70RjZi"
   },
   "source": [
    "# Pretrained models\n",
    "\n",
    "You can download some pre-trained generator models for the GAN training exercises from [this link](https://filesender.surf.nl/?s=download&token=475362bb-4098-4376-979b-b0d3ae9e3dd0), but of course it's much more interesting to train them yourself. Use \n",
    "\n",
    "\n",
    "```\n",
    "generator = keras.models.load_model(filename)\n",
    "```\n",
    "\n",
    "to load the model.\n"
   ]
  }
 ],
 "metadata": {
  "accelerator": "GPU",
  "colab": {
   "collapsed_sections": [
    "t1rhzu_KRVfD",
    "Y9hTkVp1ESQW",
    "4hq5i_sySZL1",
    "blRfoIS4Uo8-",
    "5BGSHlx-VmVY",
    "NH_4zv4gnYhg",
    "p7MFDUeHSgQ-",
    "jmtZkf5AnW6y",
    "dEjdfhRZsUGR",
    "S8CchPs2kIVT",
    "RBALpqMLFPt2",
    "dqKCNciykQ-2",
    "VBQvHB70RjZi"
   ],
   "include_colab_link": true,
   "name": "Kopie van Week5.ipynb",
   "provenance": []
  },
  "kernelspec": {
   "display_name": "Python 3",
   "language": "python",
   "name": "python3"
  },
  "language_info": {
   "codemirror_mode": {
    "name": "ipython",
    "version": 3
   },
   "file_extension": ".py",
   "mimetype": "text/x-python",
   "name": "python",
   "nbconvert_exporter": "python",
   "pygments_lexer": "ipython3",
   "version": "3.6.13"
  }
 },
 "nbformat": 4,
 "nbformat_minor": 1
}
